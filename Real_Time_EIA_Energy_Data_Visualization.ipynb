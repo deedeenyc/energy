{
  "nbformat": 4,
  "nbformat_minor": 0,
  "metadata": {
    "colab": {
      "name": "Real Time EIA Energy Data Visualization.ipynb",
      "provenance": [],
      "collapsed_sections": [],
      "authorship_tag": "ABX9TyMBEUQAeT4HNoH/QPbiP1VW",
      "include_colab_link": true
    },
    "kernelspec": {
      "name": "python3",
      "display_name": "Python 3"
    },
    "language_info": {
      "name": "python"
    }
  },
  "cells": [
    {
      "cell_type": "markdown",
      "metadata": {
        "id": "view-in-github",
        "colab_type": "text"
      },
      "source": [
        "<a href=\"https://colab.research.google.com/github/deedeenyc/energy/blob/main/Real_Time_EIA_Energy_Data_Visualization.ipynb\" target=\"_parent\"><img src=\"https://colab.research.google.com/assets/colab-badge.svg\" alt=\"Open In Colab\"/></a>"
      ]
    },
    {
      "cell_type": "code",
      "execution_count": null,
      "metadata": {
        "id": "TiTkU2VCJSJX"
      },
      "outputs": [],
      "source": [
        "eia_api_key = ''"
      ]
    },
    {
      "cell_type": "markdown",
      "source": [
        "## import libraries"
      ],
      "metadata": {
        "id": "8P5bTpxA7hfk"
      }
    },
    {
      "cell_type": "code",
      "source": [
        "!pip install eiapy"
      ],
      "metadata": {
        "id": "VPZlVf9a7neQ"
      },
      "execution_count": null,
      "outputs": []
    },
    {
      "cell_type": "code",
      "source": [
        "import requests\n",
        "import pandas as pd\n",
        "import pprint\n",
        "from datetime import datetime\n",
        "import sys\n",
        "import json\n",
        "import os\n",
        "import argparse\n",
        "\n",
        "os.environ['EIA_KEY'] = eia_api_key\n",
        "from eiapy import Series\n",
        "\n",
        "import plotly.graph_objs as go\n",
        "import plotly"
      ],
      "metadata": {
        "id": "7ggG-B7aILCi"
      },
      "execution_count": null,
      "outputs": []
    },
    {
      "cell_type": "code",
      "source": [
        "pp = pprint.PrettyPrinter(indent=4)"
      ],
      "metadata": {
        "id": "kD6Ff1TeEx9_"
      },
      "execution_count": null,
      "outputs": []
    },
    {
      "cell_type": "markdown",
      "source": [
        "# EIA Data API Exploration"
      ],
      "metadata": {
        "id": "nogDH3vMFepG"
      }
    },
    {
      "cell_type": "code",
      "source": [
        "def get_json_values(category_id):\n",
        "  url = 'https://api.eia.gov/category/?api_key=' + eia_api_key + '&category_id='+ str(category_id)\n",
        "  r = requests.get(url)\n",
        "  data = r.json()\n",
        "  return data"
      ],
      "metadata": {
        "id": "18zwBhwmhiwF"
      },
      "execution_count": null,
      "outputs": []
    },
    {
      "cell_type": "code",
      "source": [
        "eia_data = get_json_values(371)"
      ],
      "metadata": {
        "id": "P7SDluo1FwV1"
      },
      "execution_count": null,
      "outputs": []
    },
    {
      "cell_type": "code",
      "source": [
        "eia_data.keys()"
      ],
      "metadata": {
        "colab": {
          "base_uri": "https://localhost:8080/"
        },
        "outputId": "86cadc68-785b-4b89-cea5-96c3299eb323",
        "id": "j9Lnzj09FwV2"
      },
      "execution_count": null,
      "outputs": [
        {
          "output_type": "execute_result",
          "data": {
            "text/plain": [
              "dict_keys(['request', 'category'])"
            ]
          },
          "metadata": {},
          "execution_count": 14
        }
      ]
    },
    {
      "cell_type": "code",
      "source": [
        "def get_child_values(json_data):\n",
        "  return json_data['category']['childcategories']"
      ],
      "metadata": {
        "id": "lDBAreyxl0fv"
      },
      "execution_count": null,
      "outputs": []
    },
    {
      "cell_type": "code",
      "source": [
        "eia_data_childs =  get_child_values(eia_data)"
      ],
      "metadata": {
        "id": "vupwxgfkmG1r"
      },
      "execution_count": null,
      "outputs": []
    },
    {
      "cell_type": "code",
      "source": [
        "eia_data_childs"
      ],
      "metadata": {
        "colab": {
          "base_uri": "https://localhost:8080/"
        },
        "id": "4R9xNY6pmQHC",
        "outputId": "337def53-1fc2-4068-b995-c6f282cb3f20"
      },
      "execution_count": null,
      "outputs": [
        {
          "output_type": "execute_result",
          "data": {
            "text/plain": [
              "[{'category_id': 0, 'name': 'Electricity'},\n",
              " {'category_id': 40203, 'name': 'State Energy Data System (SEDS)'},\n",
              " {'category_id': 714755, 'name': 'Petroleum'},\n",
              " {'category_id': 714804, 'name': 'Natural Gas'},\n",
              " {'category_id': 711224, 'name': 'Total Energy'},\n",
              " {'category_id': 717234, 'name': 'Coal'},\n",
              " {'category_id': 829714, 'name': 'Short-Term Energy Outlook'},\n",
              " {'category_id': 964164, 'name': 'Annual Energy Outlook'},\n",
              " {'category_id': 1292190, 'name': 'Crude Oil Imports'},\n",
              " {'category_id': 2123635, 'name': 'U.S. Electric System Operating Data'},\n",
              " {'category_id': 2134384, 'name': 'International Energy Data'},\n",
              " {'category_id': 2251604, 'name': 'CO2 Emissions'},\n",
              " {'category_id': 2631064, 'name': 'International Energy Outlook'},\n",
              " {'category_id': 2889994, 'name': 'U.S. Nuclear Outages'}]"
            ]
          },
          "metadata": {},
          "execution_count": 17
        }
      ]
    },
    {
      "cell_type": "markdown",
      "source": [
        "### Electricity"
      ],
      "metadata": {
        "id": "HZdyFiwd_5VI"
      }
    },
    {
      "cell_type": "code",
      "source": [
        "electricity_data = get_json_values(0)"
      ],
      "metadata": {
        "id": "kg2SvR2cof6j"
      },
      "execution_count": null,
      "outputs": []
    },
    {
      "cell_type": "code",
      "source": [
        "electricity_data"
      ],
      "metadata": {
        "colab": {
          "base_uri": "https://localhost:8080/"
        },
        "id": "qb-BgjKgopD7",
        "outputId": "810372ac-9f7c-4192-a590-103bcbf46f22"
      },
      "execution_count": null,
      "outputs": [
        {
          "output_type": "execute_result",
          "data": {
            "text/plain": [
              "{'category': {'category_id': '0',\n",
              "  'childcategories': [{'category_id': 1, 'name': 'Net generation'},\n",
              "   {'category_id': 35, 'name': 'Total consumption'},\n",
              "   {'category_id': 32, 'name': 'Total consumption (Btu)'},\n",
              "   {'category_id': 36, 'name': 'Consumption for electricity generation'},\n",
              "   {'category_id': 33, 'name': 'Consumption for electricity generation (Btu)'},\n",
              "   {'category_id': 37, 'name': 'Consumption for useful thermal output'},\n",
              "   {'category_id': 34, 'name': 'Consumption for useful thermal output (Btu)'},\n",
              "   {'category_id': 1017, 'name': 'Plant level data'},\n",
              "   {'category_id': 38, 'name': 'Retail sales of electricity'},\n",
              "   {'category_id': 39, 'name': 'Revenue from retail sales of electricity'},\n",
              "   {'category_id': 40, 'name': 'Average retail price of electricity'},\n",
              "   {'category_id': 1718389, 'name': 'Number of customer accounts'},\n",
              "   {'category_id': 41137,\n",
              "    'name': 'Fossil-fuel stocks for electricity generation'},\n",
              "   {'category_id': 41138,\n",
              "    'name': 'Receipts of fossil fuels by electricity plants'},\n",
              "   {'category_id': 41139,\n",
              "    'name': 'Receipts of fossil fuels by electricity plants (Btu)'},\n",
              "   {'category_id': 41140,\n",
              "    'name': 'Average cost of fossil fuels for electricity generation'},\n",
              "   {'category_id': 41141,\n",
              "    'name': 'Average cost of fossil fuels for electricity generation (per Btu)'},\n",
              "   {'category_id': 41142,\n",
              "    'name': 'Quality of fossil fuels in electricity generation : sulfur content'},\n",
              "   {'category_id': 41143,\n",
              "    'name': 'Quality of fossil fuels in electricity generation : ash content'}],\n",
              "  'childseries': [],\n",
              "  'name': 'Electricity',\n",
              "  'notes': '',\n",
              "  'parent_category_id': '371'},\n",
              " 'request': {'category_id': 0, 'command': 'category'}}"
            ]
          },
          "metadata": {},
          "execution_count": 19
        }
      ]
    },
    {
      "cell_type": "markdown",
      "source": [
        "#### Net Generation"
      ],
      "metadata": {
        "id": "2vnU8U1os_8Y"
      }
    },
    {
      "cell_type": "code",
      "source": [
        "net_generation = get_json_values(1)\n",
        "get_child_values(net_generation)"
      ],
      "metadata": {
        "colab": {
          "base_uri": "https://localhost:8080/"
        },
        "id": "tn7kzxOrot_c",
        "outputId": "72b3e84d-6784-491f-e7ab-eb32e8d056ee"
      },
      "execution_count": null,
      "outputs": [
        {
          "output_type": "execute_result",
          "data": {
            "text/plain": [
              "[{'category_id': 3, 'name': 'By fuel type'},\n",
              " {'category_id': 2, 'name': 'By sector'}]"
            ]
          },
          "metadata": {},
          "execution_count": 20
        }
      ]
    },
    {
      "cell_type": "markdown",
      "source": [
        "##### Fuel Type"
      ],
      "metadata": {
        "id": "U4jkWOI0tPIE"
      }
    },
    {
      "cell_type": "code",
      "source": [
        "net_generation_by_fuel_type = get_json_values(3)\n",
        "get_child_values(net_generation_by_fuel_type)"
      ],
      "metadata": {
        "colab": {
          "base_uri": "https://localhost:8080/"
        },
        "id": "ZU6_hxcGpTS9",
        "outputId": "626479cd-7aa5-4761-fe6d-0015fa93fc07"
      },
      "execution_count": null,
      "outputs": [
        {
          "output_type": "execute_result",
          "data": {
            "text/plain": [
              "[{'category_id': 1736519, 'name': 'All fuels'},\n",
              " {'category_id': 4, 'name': 'Coal'},\n",
              " {'category_id': 7, 'name': 'Petroleum liquids'},\n",
              " {'category_id': 8, 'name': 'Petroleum coke'},\n",
              " {'category_id': 9, 'name': 'Natural gas'},\n",
              " {'category_id': 10, 'name': 'Other gases'},\n",
              " {'category_id': 11, 'name': 'Nuclear'},\n",
              " {'category_id': 12, 'name': 'Conventional hydroelectric'},\n",
              " {'category_id': 13, 'name': 'Other renewables (total)'},\n",
              " {'category_id': 14, 'name': 'Wind'},\n",
              " {'category_id': 15, 'name': 'All utility-scale solar'},\n",
              " {'category_id': 1718400, 'name': 'Utility-scale photovoltaic'},\n",
              " {'category_id': 1718401, 'name': 'Utility-scale thermal'},\n",
              " {'category_id': 17, 'name': 'Geothermal'},\n",
              " {'category_id': 16, 'name': 'Wood and wood-derived fuels'},\n",
              " {'category_id': 18, 'name': 'Other biomass'},\n",
              " {'category_id': 19, 'name': 'Hydro-electric pumped storage'},\n",
              " {'category_id': 20, 'name': 'Other'},\n",
              " {'category_id': 1718408, 'name': 'All solar'},\n",
              " {'category_id': 1718409, 'name': 'Small-scale solar photovoltaic'}]"
            ]
          },
          "metadata": {},
          "execution_count": 21
        }
      ]
    },
    {
      "cell_type": "markdown",
      "source": [
        "##### Sector"
      ],
      "metadata": {
        "id": "yrzbmOw9YIzA"
      }
    },
    {
      "cell_type": "code",
      "source": [
        "net_generation_by_sector = get_json_values(2)\n",
        "get_child_values(net_generation_by_sector)"
      ],
      "metadata": {
        "colab": {
          "base_uri": "https://localhost:8080/"
        },
        "outputId": "48776b9d-1975-4f9c-f590-f25ea813f37e",
        "id": "rgyoeqBlYIzB"
      },
      "execution_count": null,
      "outputs": [
        {
          "output_type": "execute_result",
          "data": {
            "text/plain": [
              "[{'category_id': 21, 'name': 'Electric power (total)'},\n",
              " {'category_id': 22, 'name': 'Electric utility'},\n",
              " {'category_id': 23, 'name': 'Independent power producers (total)'},\n",
              " {'category_id': 24, 'name': 'Electric utility non-cogen'},\n",
              " {'category_id': 25, 'name': 'Electric utility cogen'},\n",
              " {'category_id': 26, 'name': 'All commercial (total)'},\n",
              " {'category_id': 27, 'name': 'Commercial non-cogen'},\n",
              " {'category_id': 28, 'name': 'Commercial cogen'},\n",
              " {'category_id': 29, 'name': 'All industrial (total)'},\n",
              " {'category_id': 30, 'name': 'Industrial non-cogen'},\n",
              " {'category_id': 31, 'name': 'Industrial cogen'},\n",
              " {'category_id': 1737350, 'name': 'Residential'}]"
            ]
          },
          "metadata": {},
          "execution_count": 22
        }
      ]
    },
    {
      "cell_type": "markdown",
      "source": [
        "##### All Fuels"
      ],
      "metadata": {
        "id": "7nKxXiY1VF0b"
      }
    },
    {
      "cell_type": "code",
      "source": [
        "electricity_all_fuels = get_json_values(1736519)\n",
        "get_child_values(electricity_all_fuels)"
      ],
      "metadata": {
        "colab": {
          "base_uri": "https://localhost:8080/"
        },
        "id": "z34y21OqplHO",
        "outputId": "838a86ed-a47c-4912-da1f-edf1f4bc24c4"
      },
      "execution_count": null,
      "outputs": [
        {
          "output_type": "execute_result",
          "data": {
            "text/plain": [
              "[{'category_id': 1736743, 'name': 'Electric power (total)'},\n",
              " {'category_id': 1736744, 'name': 'Electric utility'},\n",
              " {'category_id': 1736745, 'name': 'Independent power producers (total)'},\n",
              " {'category_id': 1736746, 'name': 'Electric utility non-cogen'},\n",
              " {'category_id': 1736747, 'name': 'Electric utility cogen'},\n",
              " {'category_id': 1736748, 'name': 'All commercial (total)'},\n",
              " {'category_id': 1736749, 'name': 'Commercial non-cogen'},\n",
              " {'category_id': 1736750, 'name': 'Commercial cogen'},\n",
              " {'category_id': 1736751, 'name': 'All industrial (total)'},\n",
              " {'category_id': 1736752, 'name': 'Industrial non-cogen'},\n",
              " {'category_id': 1736753, 'name': 'Industrial cogen'}]"
            ]
          },
          "metadata": {},
          "execution_count": 348
        }
      ]
    },
    {
      "cell_type": "markdown",
      "source": [
        "# Generate Plotly Charts"
      ],
      "metadata": {
        "id": "-G7o2MUGF671"
      }
    },
    {
      "cell_type": "code",
      "source": [
        "def get_url (url):\n",
        "    r = requests.get(url)\n",
        "    return r.json()"
      ],
      "metadata": {
        "id": "CJHgdNGKFDQA"
      },
      "execution_count": null,
      "outputs": []
    },
    {
      "cell_type": "code",
      "source": [
        "#get_childseries\n",
        "def get_childseries (category_num):\n",
        "    url = \"https://api.eia.gov/category/?api_key=\" + eia_api_key + \"&category_id=\" + str(category_num)\n",
        "    return_json = get_url(url)\n",
        "    return {'title':return_json['category']['name']\n",
        "            ,'data':return_json['category']['childcategories']}"
      ],
      "metadata": {
        "id": "_vrDEK7tFGjg"
      },
      "execution_count": null,
      "outputs": []
    },
    {
      "cell_type": "code",
      "source": [
        "#returns the category ID, which is used to actually pull the data\n",
        "#get_seriesid_by_geo_time(4,\"New York\",\"quarterly\")\n",
        "def get_seriesid_by_geo_time(series,geography='United States',timeperiod='monthly'):\n",
        "    series_json = get_url(\"https://api.eia.gov/category/?api_key=\" + eia_api_key + \"&category_id=\" + str(series))\n",
        "    try:\n",
        "        return [x for x in series_json['category'][\"childseries\"] if geography in x['name'] and timeperiod in x['name']][0]['series_id']\n",
        "    except IndexError:\n",
        "        return \"Does not exist\""
      ],
      "metadata": {
        "id": "xniIAcQWFKiY"
      },
      "execution_count": null,
      "outputs": []
    },
    {
      "cell_type": "code",
      "source": [
        "#get_series_by_geo_time(9,'United States','monthly') gets natural gas data as per Fuel Type section above\n",
        "def get_series_by_geo_time(series,geography='United States',timeperiod='monthly'):\n",
        "    series_id = get_seriesid_by_geo_time(series,geography,timeperiod)\n",
        "    if series_id == 'Does not exist':\n",
        "        return 'Does not exist'\n",
        "    else:\n",
        "        series_id_results = get_url(\"https://api.eia.gov/series/?api_key=\" + eia_api_key + \"&series_id=\" + series_id)\n",
        "        return series_id_results['series'][0]"
      ],
      "metadata": {
        "id": "ctyplYAlG1jS"
      },
      "execution_count": null,
      "outputs": []
    },
    {
      "cell_type": "code",
      "source": [
        "#prepare the scatter plot\n",
        "def prep_scatter(in_x,indata,title,visible=True):\n",
        "    return go.Scatter( x = [datetime.strptime(d,'%Y%m') for d in in_x]\n",
        "        , y = indata\n",
        "        , mode='lines+markers'\n",
        "        , name=title\n",
        "        , visible=visible\n",
        "        , hoverlabel = dict(namelength = -1))"
      ],
      "metadata": {
        "id": "rCk14jaiHP9h"
      },
      "execution_count": null,
      "outputs": []
    },
    {
      "cell_type": "code",
      "source": [
        "#gets source data and converts it into a two column dataframe: date, value.\n",
        "def prep_source_df(geo_series_by_geo_time_result,name):\n",
        "    date_list = []\n",
        "    value_list = []\n",
        "\n",
        "    for rec in geo_series_by_geo_time_result['data']:\n",
        "        date_list.append(rec[0])\n",
        "        value_list.append(rec[1])\n",
        "    df_results = pd.DataFrame(data={'date':date_list,name:value_list})\n",
        "    return df_results\n"
      ],
      "metadata": {
        "id": "rMe5WxdmHXff"
      },
      "execution_count": null,
      "outputs": []
    },
    {
      "cell_type": "code",
      "source": [
        "#returns a list of all geographies you can pull.\n",
        "def return_geographies(category_num=3,include_totals=False):\n",
        "    url = \"https://api.eia.gov/category/?api_key=\" + eia_api_key + \"&category_id=\" + str(category_num)\n",
        "    return_json = get_url(url)\n",
        "\n",
        "    all_geographies_list = [x['name'].split(\":\")[2] for x in return_json['category']['childseries']]\n",
        "    #a sample name looks like this 'Net generation : all fuels : Arizona : all sectors : monthly', so it's necessary to only snag the geography\n",
        "\n",
        "    all_geographies_list = list(set(all_geographies_list))\n",
        "    #de-dup because there are options to pull monthly, quarterly and annual data.\n",
        "\n",
        "    #remove regional totals\n",
        "    all_geographies_list_extotals = [x for x in all_geographies_list if x.find('total') == -1]\n",
        "\n",
        "\n",
        "    if include_totals==0:\n",
        "        all_geographies_list_extotals.sort()\n",
        "        return all_geographies_list_extotals\n",
        "    else:\n",
        "        all_geographies_list.sort()\n",
        "        return all_geographies_list\n"
      ],
      "metadata": {
        "id": "DeT3X7neHizz"
      },
      "execution_count": null,
      "outputs": []
    },
    {
      "cell_type": "code",
      "source": [
        "#create an optional input \"geography\". If provided, I'll skip the step of asking a user what geography they want\n",
        "def get_args():\n",
        "    parser = argparse.ArgumentParser()\n",
        "    parser.add_argument(\"--geography\", help=\"If you already know the geography, enter it here\")\n",
        "    parser.add_argument(\"--outpath\", help=\"Path to folder location of output html file\")\n",
        "    args = parser.parse_args()\n",
        "    return args\n"
      ],
      "metadata": {
        "id": "5KhGmPaaHm5i"
      },
      "execution_count": null,
      "outputs": []
    },
    {
      "cell_type": "code",
      "source": [
        "def main():\n",
        "    #I know 3 is net generation by source\n",
        "    args_in = get_args()\n",
        "    catetory_id = 4\n",
        "    all_resultlist = get_childseries(catetory_id)\n",
        "    if args_in.geography is None:\n",
        "        pp.pprint(return_geographies(include_totals=True))\n",
        "        geography_input = input('Input Geography from the above list: ')\n",
        "    else:\n",
        "        geography_input = args_in.geography\n",
        "    print(geography_input)\n",
        "    #relevent_resultlist = [x for x in all_resultlist if x['category_id'] < 100 ]\n",
        "    #data_to_graph = return_childseries_tograph(relevent_resultlist)\n",
        "\n",
        "    all_resultlist_tograph = [x for x in all_resultlist['data'] if (len(str(x['category_id'])) < 3 or x['name'] == 'All fuels') and x['name'] != 'Other renewables (total)' ]\n",
        "    #create shell of dataframe to join source data to.\n",
        "    df_net_gen_results = pd.DataFrame(columns={'date'})\n",
        "    df_net_gen_results_ttm = pd.DataFrame(columns={'date'})\n",
        "    for source in all_resultlist_tograph:\n",
        "        series_data = get_series_by_geo_time(source['category_id'],geography_input,'monthly')\n",
        "        if series_data == 'Does not exist':\n",
        "            continue\n",
        "        df_tojoin = prep_source_df(series_data,source['name'])\n",
        "        df_net_gen_results = df_net_gen_results.merge(df_tojoin,how='outer',on='date')\n",
        "\n",
        "        df_tojoin_ttm = pd.DataFrame({'date':df_tojoin['date'] , source['name']:df_tojoin[source['name']][::-1].rolling(window=12).mean()[::-1]})\n",
        "        df_net_gen_results_ttm = df_net_gen_results_ttm.merge(df_tojoin_ttm,how='outer',on='date')\n",
        "\n",
        "    chart_data = []\n",
        "    non_ttm_visible = []\n",
        "    for column in df_net_gen_results:\n",
        "        if column != 'date' and column != 'All fuels':\n",
        "            chart_data.append(prep_scatter(df_net_gen_results['date'],df_net_gen_results[column],column,visible=False))\n",
        "            non_ttm_visible.append(True)\n",
        "\n",
        "    for column in df_net_gen_results_ttm:\n",
        "        if column != 'date' and column != 'All fuels':\n",
        "            chart_data.append(prep_scatter(df_net_gen_results_ttm['date'],df_net_gen_results_ttm[column],column))\n",
        "            non_ttm_visible.append(False)\n",
        "\n",
        "    ttm_visible = [not i for i in non_ttm_visible]\n",
        "\n",
        "    updatemenus = list([\n",
        "        dict(active=0,\n",
        "             buttons=list([\n",
        "                dict(label = 'TTM',\n",
        "                     method = 'update',\n",
        "                     args = [{'visible': ttm_visible}]),\n",
        "                dict(label = 'Actual',\n",
        "                     method = 'update',\n",
        "                     args = [{'visible': non_ttm_visible}])\n",
        "                ])\n",
        "            )])\n",
        "\n",
        "    footnote_text = '<i> Updated: ' + datetime.today().strftime('%Y-%m-%d') + '</i>'\n",
        "    layout = dict(title = 'Net Generation  - '+ get_childseries(catetory_id)['title']+ ' ' + geography_input,\n",
        "              xaxis = dict(title = 'Month'),\n",
        "              yaxis = dict(title = 'thousand megawatthours'),\n",
        "              hovermode = 'closest',\n",
        "              updatemenus = updatemenus,\n",
        "              annotations = [go.layout.Annotation(showarrow=False,\n",
        "                            text=footnote_text,\n",
        "                            xanchor='left',\n",
        "                            xref='paper',\n",
        "                            xshift=-5,\n",
        "                            x=0,\n",
        "                            yanchor='top',\n",
        "                            yref='paper',\n",
        "                            yshift=-15,\n",
        "                            y=0,\n",
        "                            font=dict(color='grey')\n",
        "                            )]\n",
        "        )\n",
        "    if args_in.outpath is not None:\n",
        "        outfile = os.path.join(args_in.outpath,'ElectricNet Gen by Source - ' + geography_input + '.html')\n",
        "    else:\n",
        "        outfile = 'Net Gen by Source - ' + geography_input + '.html'\n",
        "    plotly.offline.plot({\n",
        "            'data': chart_data,\n",
        "            \"layout\": layout}\n",
        "        ,filename=outfile\n",
        "        ,auto_open=False\n",
        "        )"
      ],
      "metadata": {
        "id": "jhb7smzzIH4S"
      },
      "execution_count": null,
      "outputs": []
    }
  ]
}