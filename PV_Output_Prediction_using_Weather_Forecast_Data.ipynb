{
  "nbformat": 4,
  "nbformat_minor": 0,
  "metadata": {
    "colab": {
      "name": "PV Output Prediction using Weather Forecast Data.ipynb",
      "provenance": [],
      "collapsed_sections": [],
      "toc_visible": true,
      "authorship_tag": "ABX9TyM6vyGUOrZWKwTJBKqA3xQa"
    },
    "kernelspec": {
      "name": "python3",
      "display_name": "Python 3"
    },
    "language_info": {
      "name": "python"
    }
  },
  "cells": [
    {
      "cell_type": "markdown",
      "metadata": {
        "id": "LWd1UlMnhT2s"
      },
      "source": [
        "## Import the libraries"
      ]
    },
    {
      "cell_type": "code",
      "execution_count": 2,
      "metadata": {
        "id": "NkDLd3rqCpDv"
      },
      "outputs": [],
      "source": [
        "# Python\n",
        "import pickle\n",
        "import math, time, random\n",
        "from datetime import datetime, timedelta, date\n",
        "import numpy as np\n",
        "import pandas as pd\n",
        "import matplotlib.pyplot as plt\n",
        "%matplotlib inline\n",
        "plt.style.use('seaborn-talk')\n",
        "import seaborn as sns\n",
        "colormap = plt.cm.RdBu\n",
        "plt.rcParams['font.size'] = 10\n",
        "\n",
        "# Data Prep\n",
        "from sklearn.preprocessing import OneHotEncoder, LabelEncoder\n",
        "\n",
        "# Model Training\n",
        "from sklearn.model_selection import train_test_split,cross_validate\n",
        "from sklearn.linear_model import LinearRegression,Ridge,Lasso,RidgeCV\n",
        "from sklearn.svm import LinearSVR\n",
        "from sklearn.ensemble import RandomForestRegressor,BaggingRegressor,GradientBoostingRegressor,AdaBoostRegressor,StackingRegressor,VotingRegressor\n",
        "from xgboost.sklearn import XGBRegressor\n",
        "from xgboost import plot_importance\n",
        "from scipy.stats import norm\n",
        "from scipy import stats\n",
        "\n",
        "#Model Evaluation\n",
        "from sklearn.metrics import mean_squared_log_error, mean_squared_error\n",
        "\n",
        "# Warning Control\n",
        "import warnings\n",
        "warnings.filterwarnings('ignore')\n",
        "\n",
        "#file import, load\n",
        "from google.colab import files\n",
        "from joblib import dump, load\n"
      ]
    },
    {
      "cell_type": "markdown",
      "metadata": {
        "id": "K1VMqkGvhc3-"
      },
      "source": [
        "## Importing the dataset"
      ]
    },
    {
      "cell_type": "code",
      "source": [
        "files.upload()"
      ],
      "metadata": {
        "id": "PY09DU3H7aZZ"
      },
      "execution_count": null,
      "outputs": []
    },
    {
      "cell_type": "code",
      "source": [
        "train = pd.read_csv('solar_weather_two_years_update.csv')"
      ],
      "metadata": {
        "id": "Pc4l0It37aZn"
      },
      "execution_count": 4,
      "outputs": []
    },
    {
      "cell_type": "code",
      "source": [
        "train.head()"
      ],
      "metadata": {
        "colab": {
          "base_uri": "https://localhost:8080/",
          "height": 299
        },
        "id": "imuH4Bs4ycSx",
        "outputId": "5f5d7d63-7a5f-4deb-9f29-3077677851d1"
      },
      "execution_count": 5,
      "outputs": [
        {
          "output_type": "execute_result",
          "data": {
            "text/plain": [
              "       Date  Generated  Efficiency  Exported  Consumption  PeakPower PeakTime  \\\n",
              "0  20220427      35971       6.516     20168            0       4978    12:45   \n",
              "1  20220426      36148       6.549     21301            0       4784    13:10   \n",
              "2  20220425      36186       6.555     20413            0       4732    13:25   \n",
              "3  20220424      35291       6.393     17824            0       4655    13:30   \n",
              "4  20220423      36001       6.522     17440            0       4693    13:20   \n",
              "\n",
              "  Condition  MinTemp  MaxTemp  ...  dewpoint_temp  relative_humidity  \\\n",
              "0      Fine        8       16  ...           6.82               0.88   \n",
              "1      Fine       10       18  ...           8.87               0.89   \n",
              "2      Fine       10       20  ...           8.49               0.89   \n",
              "3      Fine        9       20  ...           9.25               0.96   \n",
              "4      Fine        8       20  ...           8.33               0.92   \n",
              "\n",
              "   wind_speed  wind_direction  surface_pressure  cloud_cover  \\\n",
              "0        5.22          250.87         100816.28         1.00   \n",
              "1        5.72          257.15         100852.61         1.00   \n",
              "2        4.57          259.59         101088.89         1.00   \n",
              "3        4.40          273.80         101249.99         0.39   \n",
              "4        5.26          298.42         101525.31         0.97   \n",
              "\n",
              "   total_precipitation  snowfall        lat         lon  \n",
              "0                  0.0         0  37.804456 -122.271356  \n",
              "1                  0.0         0  37.804456 -122.271356  \n",
              "2                  0.0         0  37.804456 -122.271356  \n",
              "3                  0.0         0  37.804456 -122.271356  \n",
              "4                  0.0         0  37.804456 -122.271356  \n",
              "\n",
              "[5 rows x 26 columns]"
            ],
            "text/html": [
              "\n",
              "  <div id=\"df-7ae1568e-2774-4438-aba6-28345f26461e\">\n",
              "    <div class=\"colab-df-container\">\n",
              "      <div>\n",
              "<style scoped>\n",
              "    .dataframe tbody tr th:only-of-type {\n",
              "        vertical-align: middle;\n",
              "    }\n",
              "\n",
              "    .dataframe tbody tr th {\n",
              "        vertical-align: top;\n",
              "    }\n",
              "\n",
              "    .dataframe thead th {\n",
              "        text-align: right;\n",
              "    }\n",
              "</style>\n",
              "<table border=\"1\" class=\"dataframe\">\n",
              "  <thead>\n",
              "    <tr style=\"text-align: right;\">\n",
              "      <th></th>\n",
              "      <th>Date</th>\n",
              "      <th>Generated</th>\n",
              "      <th>Efficiency</th>\n",
              "      <th>Exported</th>\n",
              "      <th>Consumption</th>\n",
              "      <th>PeakPower</th>\n",
              "      <th>PeakTime</th>\n",
              "      <th>Condition</th>\n",
              "      <th>MinTemp</th>\n",
              "      <th>MaxTemp</th>\n",
              "      <th>...</th>\n",
              "      <th>dewpoint_temp</th>\n",
              "      <th>relative_humidity</th>\n",
              "      <th>wind_speed</th>\n",
              "      <th>wind_direction</th>\n",
              "      <th>surface_pressure</th>\n",
              "      <th>cloud_cover</th>\n",
              "      <th>total_precipitation</th>\n",
              "      <th>snowfall</th>\n",
              "      <th>lat</th>\n",
              "      <th>lon</th>\n",
              "    </tr>\n",
              "  </thead>\n",
              "  <tbody>\n",
              "    <tr>\n",
              "      <th>0</th>\n",
              "      <td>20220427</td>\n",
              "      <td>35971</td>\n",
              "      <td>6.516</td>\n",
              "      <td>20168</td>\n",
              "      <td>0</td>\n",
              "      <td>4978</td>\n",
              "      <td>12:45</td>\n",
              "      <td>Fine</td>\n",
              "      <td>8</td>\n",
              "      <td>16</td>\n",
              "      <td>...</td>\n",
              "      <td>6.82</td>\n",
              "      <td>0.88</td>\n",
              "      <td>5.22</td>\n",
              "      <td>250.87</td>\n",
              "      <td>100816.28</td>\n",
              "      <td>1.00</td>\n",
              "      <td>0.0</td>\n",
              "      <td>0</td>\n",
              "      <td>37.804456</td>\n",
              "      <td>-122.271356</td>\n",
              "    </tr>\n",
              "    <tr>\n",
              "      <th>1</th>\n",
              "      <td>20220426</td>\n",
              "      <td>36148</td>\n",
              "      <td>6.549</td>\n",
              "      <td>21301</td>\n",
              "      <td>0</td>\n",
              "      <td>4784</td>\n",
              "      <td>13:10</td>\n",
              "      <td>Fine</td>\n",
              "      <td>10</td>\n",
              "      <td>18</td>\n",
              "      <td>...</td>\n",
              "      <td>8.87</td>\n",
              "      <td>0.89</td>\n",
              "      <td>5.72</td>\n",
              "      <td>257.15</td>\n",
              "      <td>100852.61</td>\n",
              "      <td>1.00</td>\n",
              "      <td>0.0</td>\n",
              "      <td>0</td>\n",
              "      <td>37.804456</td>\n",
              "      <td>-122.271356</td>\n",
              "    </tr>\n",
              "    <tr>\n",
              "      <th>2</th>\n",
              "      <td>20220425</td>\n",
              "      <td>36186</td>\n",
              "      <td>6.555</td>\n",
              "      <td>20413</td>\n",
              "      <td>0</td>\n",
              "      <td>4732</td>\n",
              "      <td>13:25</td>\n",
              "      <td>Fine</td>\n",
              "      <td>10</td>\n",
              "      <td>20</td>\n",
              "      <td>...</td>\n",
              "      <td>8.49</td>\n",
              "      <td>0.89</td>\n",
              "      <td>4.57</td>\n",
              "      <td>259.59</td>\n",
              "      <td>101088.89</td>\n",
              "      <td>1.00</td>\n",
              "      <td>0.0</td>\n",
              "      <td>0</td>\n",
              "      <td>37.804456</td>\n",
              "      <td>-122.271356</td>\n",
              "    </tr>\n",
              "    <tr>\n",
              "      <th>3</th>\n",
              "      <td>20220424</td>\n",
              "      <td>35291</td>\n",
              "      <td>6.393</td>\n",
              "      <td>17824</td>\n",
              "      <td>0</td>\n",
              "      <td>4655</td>\n",
              "      <td>13:30</td>\n",
              "      <td>Fine</td>\n",
              "      <td>9</td>\n",
              "      <td>20</td>\n",
              "      <td>...</td>\n",
              "      <td>9.25</td>\n",
              "      <td>0.96</td>\n",
              "      <td>4.40</td>\n",
              "      <td>273.80</td>\n",
              "      <td>101249.99</td>\n",
              "      <td>0.39</td>\n",
              "      <td>0.0</td>\n",
              "      <td>0</td>\n",
              "      <td>37.804456</td>\n",
              "      <td>-122.271356</td>\n",
              "    </tr>\n",
              "    <tr>\n",
              "      <th>4</th>\n",
              "      <td>20220423</td>\n",
              "      <td>36001</td>\n",
              "      <td>6.522</td>\n",
              "      <td>17440</td>\n",
              "      <td>0</td>\n",
              "      <td>4693</td>\n",
              "      <td>13:20</td>\n",
              "      <td>Fine</td>\n",
              "      <td>8</td>\n",
              "      <td>20</td>\n",
              "      <td>...</td>\n",
              "      <td>8.33</td>\n",
              "      <td>0.92</td>\n",
              "      <td>5.26</td>\n",
              "      <td>298.42</td>\n",
              "      <td>101525.31</td>\n",
              "      <td>0.97</td>\n",
              "      <td>0.0</td>\n",
              "      <td>0</td>\n",
              "      <td>37.804456</td>\n",
              "      <td>-122.271356</td>\n",
              "    </tr>\n",
              "  </tbody>\n",
              "</table>\n",
              "<p>5 rows × 26 columns</p>\n",
              "</div>\n",
              "      <button class=\"colab-df-convert\" onclick=\"convertToInteractive('df-7ae1568e-2774-4438-aba6-28345f26461e')\"\n",
              "              title=\"Convert this dataframe to an interactive table.\"\n",
              "              style=\"display:none;\">\n",
              "        \n",
              "  <svg xmlns=\"http://www.w3.org/2000/svg\" height=\"24px\"viewBox=\"0 0 24 24\"\n",
              "       width=\"24px\">\n",
              "    <path d=\"M0 0h24v24H0V0z\" fill=\"none\"/>\n",
              "    <path d=\"M18.56 5.44l.94 2.06.94-2.06 2.06-.94-2.06-.94-.94-2.06-.94 2.06-2.06.94zm-11 1L8.5 8.5l.94-2.06 2.06-.94-2.06-.94L8.5 2.5l-.94 2.06-2.06.94zm10 10l.94 2.06.94-2.06 2.06-.94-2.06-.94-.94-2.06-.94 2.06-2.06.94z\"/><path d=\"M17.41 7.96l-1.37-1.37c-.4-.4-.92-.59-1.43-.59-.52 0-1.04.2-1.43.59L10.3 9.45l-7.72 7.72c-.78.78-.78 2.05 0 2.83L4 21.41c.39.39.9.59 1.41.59.51 0 1.02-.2 1.41-.59l7.78-7.78 2.81-2.81c.8-.78.8-2.07 0-2.86zM5.41 20L4 18.59l7.72-7.72 1.47 1.35L5.41 20z\"/>\n",
              "  </svg>\n",
              "      </button>\n",
              "      \n",
              "  <style>\n",
              "    .colab-df-container {\n",
              "      display:flex;\n",
              "      flex-wrap:wrap;\n",
              "      gap: 12px;\n",
              "    }\n",
              "\n",
              "    .colab-df-convert {\n",
              "      background-color: #E8F0FE;\n",
              "      border: none;\n",
              "      border-radius: 50%;\n",
              "      cursor: pointer;\n",
              "      display: none;\n",
              "      fill: #1967D2;\n",
              "      height: 32px;\n",
              "      padding: 0 0 0 0;\n",
              "      width: 32px;\n",
              "    }\n",
              "\n",
              "    .colab-df-convert:hover {\n",
              "      background-color: #E2EBFA;\n",
              "      box-shadow: 0px 1px 2px rgba(60, 64, 67, 0.3), 0px 1px 3px 1px rgba(60, 64, 67, 0.15);\n",
              "      fill: #174EA6;\n",
              "    }\n",
              "\n",
              "    [theme=dark] .colab-df-convert {\n",
              "      background-color: #3B4455;\n",
              "      fill: #D2E3FC;\n",
              "    }\n",
              "\n",
              "    [theme=dark] .colab-df-convert:hover {\n",
              "      background-color: #434B5C;\n",
              "      box-shadow: 0px 1px 3px 1px rgba(0, 0, 0, 0.15);\n",
              "      filter: drop-shadow(0px 1px 2px rgba(0, 0, 0, 0.3));\n",
              "      fill: #FFFFFF;\n",
              "    }\n",
              "  </style>\n",
              "\n",
              "      <script>\n",
              "        const buttonEl =\n",
              "          document.querySelector('#df-7ae1568e-2774-4438-aba6-28345f26461e button.colab-df-convert');\n",
              "        buttonEl.style.display =\n",
              "          google.colab.kernel.accessAllowed ? 'block' : 'none';\n",
              "\n",
              "        async function convertToInteractive(key) {\n",
              "          const element = document.querySelector('#df-7ae1568e-2774-4438-aba6-28345f26461e');\n",
              "          const dataTable =\n",
              "            await google.colab.kernel.invokeFunction('convertToInteractive',\n",
              "                                                     [key], {});\n",
              "          if (!dataTable) return;\n",
              "\n",
              "          const docLinkHtml = 'Like what you see? Visit the ' +\n",
              "            '<a target=\"_blank\" href=https://colab.research.google.com/notebooks/data_table.ipynb>data table notebook</a>'\n",
              "            + ' to learn more about interactive tables.';\n",
              "          element.innerHTML = '';\n",
              "          dataTable['output_type'] = 'display_data';\n",
              "          await google.colab.output.renderOutput(dataTable, element);\n",
              "          const docLink = document.createElement('div');\n",
              "          docLink.innerHTML = docLinkHtml;\n",
              "          element.appendChild(docLink);\n",
              "        }\n",
              "      </script>\n",
              "    </div>\n",
              "  </div>\n",
              "  "
            ]
          },
          "metadata": {},
          "execution_count": 5
        }
      ]
    },
    {
      "cell_type": "markdown",
      "metadata": {
        "id": "d-IpJAWhudX1"
      },
      "source": [
        "# Exploratory Data Analysis \n"
      ]
    },
    {
      "cell_type": "markdown",
      "metadata": {
        "id": "0i-k54UhZ7ea"
      },
      "source": [
        "###Target Distribution"
      ]
    },
    {
      "cell_type": "code",
      "source": [
        "plt.figure(figsize=(5, 5))\n",
        "sns.distplot(train['Efficiency'])"
      ],
      "metadata": {
        "colab": {
          "base_uri": "https://localhost:8080/",
          "height": 363
        },
        "id": "8pq1SUiEb0Iv",
        "outputId": "7fc56eeb-b85e-4305-a0db-d27ba5124c7d"
      },
      "execution_count": 6,
      "outputs": [
        {
          "output_type": "execute_result",
          "data": {
            "text/plain": [
              "<matplotlib.axes._subplots.AxesSubplot at 0x7fd6d3690ed0>"
            ]
          },
          "metadata": {},
          "execution_count": 6
        },
        {
          "output_type": "display_data",
          "data": {
            "text/plain": [
              "<Figure size 360x360 with 1 Axes>"
            ],
            "image/png": "[encoded data removed]"
          },
          "metadata": {
            "needs_background": "light"
          }
        }
      ]
    },
    {
      "cell_type": "markdown",
      "metadata": {
        "id": "feIrYe8D1YXy"
      },
      "source": [
        "### Qualitative vs Quantitative Data Types"
      ]
    },
    {
      "cell_type": "markdown",
      "metadata": {
        "id": "P-azs_H6AwV5"
      },
      "source": [
        "### Types of Data Variables"
      ]
    },
    {
      "cell_type": "code",
      "execution_count": 7,
      "metadata": {
        "id": "bRlL600dIGD3"
      },
      "outputs": [],
      "source": [
        "dfnum = train.select_dtypes(include=['float64','int64'])\n",
        "dfcat= train.select_dtypes(include=[object])\n",
        "dftime = train.select_dtypes(include=['datetime64','timedelta64'])"
      ]
    },
    {
      "cell_type": "markdown",
      "metadata": {
        "id": "DMa3qWSzOjgm"
      },
      "source": [
        "### Outlier Values\n",
        "Boxplots summarize the distribution of each attribute, drawing a line for the median, the 25th and 75th percentiles. The whiskers give an idea of the spread of the data and dots outside of the whiskers\n",
        "show **outlier values**."
      ]
    },
    {
      "cell_type": "code",
      "execution_count": 8,
      "metadata": {
        "id": "gPQKkqKCO2eh",
        "colab": {
          "base_uri": "https://localhost:8080/",
          "height": 613
        },
        "outputId": "ce29e8aa-a611-4777-daff-20a0953a4e49"
      },
      "outputs": [
        {
          "output_type": "display_data",
          "data": {
            "text/plain": [
              "<Figure size 1296x720 with 24 Axes>"
            ],
            "image/png": "[encoded data removed]"
          },
          "metadata": {
            "needs_background": "light"
          }
        }
      ],
      "source": [
        "dfnum.plot(kind='box', subplots=True, layout=(4,6), sharex=False,figsize=(18,10))\n",
        "plt.show()"
      ]
    },
    {
      "cell_type": "markdown",
      "metadata": {
        "id": "CJ0ORYp6W7Kc"
      },
      "source": [
        "###Inconsistent values"
      ]
    },
    {
      "cell_type": "markdown",
      "metadata": {
        "id": "n6EccQajakCK"
      },
      "source": [
        "The below code shows the data type and values of each column. Review columns and see if the data type matches the column values."
      ]
    },
    {
      "cell_type": "code",
      "source": [
        "def check_values(df):\n",
        " return pd.DataFrame({\"values\":{col:df[col].unique() for col in df},'type':{col:df[col].dtype for col in df}})\n"
      ],
      "metadata": {
        "id": "6CwsXtFAqYsg"
      },
      "execution_count": 9,
      "outputs": []
    },
    {
      "cell_type": "code",
      "source": [
        "check_values(train)"
      ],
      "metadata": {
        "colab": {
          "base_uri": "https://localhost:8080/",
          "height": 865
        },
        "id": "xOsjDQ3qqk8a",
        "outputId": "d71f66bf-4fbb-4a2c-ca9a-36dcfa149e64"
      },
      "execution_count": 10,
      "outputs": [
        {
          "output_type": "execute_result",
          "data": {
            "text/plain": [
              "                                                                values  \\\n",
              "Date                 [20220427, 20220426, 20220425, 20220424, 20220...   \n",
              "Generated            [35971, 36148, 36186, 35291, 36001, 35694, 234...   \n",
              "Efficiency           [6.516, 6.549, 6.555, 6.393, 6.522, 6.466, 4.2...   \n",
              "Exported             [20168, 21301, 20413, 17824, 17440, 20393, 867...   \n",
              "Consumption                                                        [0]   \n",
              "PeakPower            [4978, 4784, 4732, 4655, 4693, 5048, 4922, 499...   \n",
              "PeakTime             [12:45, 13:10, 13:25, 13:30, 13:20, 11:50, 14:...   \n",
              "Condition            [Fine, Partly Cloudy, Mostly Cloudy, Cloudy, S...   \n",
              "MinTemp              [8, 10, 9, 11, 6, 7, 12, 14, 5, 3, 4, 13, 16, ...   \n",
              "MaxTemp              [16, 18, 20, 19, 17, 15, 13, 14, 24, 31, 27, 2...   \n",
              "PeakImport                                                       [nan]   \n",
              "OffPeakImport                                                    [nan]   \n",
              "Sh_Import                                                        [nan]   \n",
              "High_Sh_Import                                                   [nan]   \n",
              "temperature_max      [15.33, 16.42, 17.38, 17.37, 17.64, 15.95, 18....   \n",
              "temperature_min      [7.89, 10.06, 9.79, 9.32, 8.68, 9.97, 11.57, 9...   \n",
              "dewpoint_temp        [6.82, 8.87, 8.49, 9.25, 8.33, 8.8, 12.17, 9.1...   \n",
              "relative_humidity    [0.88, 0.89, 0.96, 0.92, 0.91, 0.95, 0.86, 0.9...   \n",
              "wind_speed           [5.22, 5.72, 4.57, 4.4, 5.26, 6.39, 6.57, 6.2,...   \n",
              "wind_direction       [250.87, 257.15, 259.59, 273.8, 298.42, 302.15...   \n",
              "surface_pressure     [100816.28, 100852.61, 101088.89, 101249.99, 1...   \n",
              "cloud_cover          [1.0, 0.39, 0.97, 0.87, 0.99, 0.92, 0.13, 0.42...   \n",
              "total_precipitation  [0.0, 0.27, 1.73, 0.59, 3.37, 0.55, 0.06, 0.21...   \n",
              "snowfall                                                           [0]   \n",
              "lat                                                        [37.804456]   \n",
              "lon                                                      [-122.271356]   \n",
              "\n",
              "                        type  \n",
              "Date                   int64  \n",
              "Generated              int64  \n",
              "Efficiency           float64  \n",
              "Exported               int64  \n",
              "Consumption            int64  \n",
              "PeakPower              int64  \n",
              "PeakTime              object  \n",
              "Condition             object  \n",
              "MinTemp                int64  \n",
              "MaxTemp                int64  \n",
              "PeakImport           float64  \n",
              "OffPeakImport        float64  \n",
              "Sh_Import            float64  \n",
              "High_Sh_Import       float64  \n",
              "temperature_max      float64  \n",
              "temperature_min      float64  \n",
              "dewpoint_temp        float64  \n",
              "relative_humidity    float64  \n",
              "wind_speed           float64  \n",
              "wind_direction       float64  \n",
              "surface_pressure     float64  \n",
              "cloud_cover          float64  \n",
              "total_precipitation  float64  \n",
              "snowfall               int64  \n",
              "lat                  float64  \n",
              "lon                  float64  "
            ],
            "text/html": [
              "\n",
              "  <div id=\"df-f254089e-6139-4c4a-8e6e-ddf067f12fb8\">\n",
              "    <div class=\"colab-df-container\">\n",
              "      <div>\n",
              "<style scoped>\n",
              "    .dataframe tbody tr th:only-of-type {\n",
              "        vertical-align: middle;\n",
              "    }\n",
              "\n",
              "    .dataframe tbody tr th {\n",
              "        vertical-align: top;\n",
              "    }\n",
              "\n",
              "    .dataframe thead th {\n",
              "        text-align: right;\n",
              "    }\n",
              "</style>\n",
              "<table border=\"1\" class=\"dataframe\">\n",
              "  <thead>\n",
              "    <tr style=\"text-align: right;\">\n",
              "      <th></th>\n",
              "      <th>values</th>\n",
              "      <th>type</th>\n",
              "    </tr>\n",
              "  </thead>\n",
              "  <tbody>\n",
              "    <tr>\n",
              "      <th>Date</th>\n",
              "      <td>[20220427, 20220426, 20220425, 20220424, 20220...</td>\n",
              "      <td>int64</td>\n",
              "    </tr>\n",
              "    <tr>\n",
              "      <th>Generated</th>\n",
              "      <td>[35971, 36148, 36186, 35291, 36001, 35694, 234...</td>\n",
              "      <td>int64</td>\n",
              "    </tr>\n",
              "    <tr>\n",
              "      <th>Efficiency</th>\n",
              "      <td>[6.516, 6.549, 6.555, 6.393, 6.522, 6.466, 4.2...</td>\n",
              "      <td>float64</td>\n",
              "    </tr>\n",
              "    <tr>\n",
              "      <th>Exported</th>\n",
              "      <td>[20168, 21301, 20413, 17824, 17440, 20393, 867...</td>\n",
              "      <td>int64</td>\n",
              "    </tr>\n",
              "    <tr>\n",
              "      <th>Consumption</th>\n",
              "      <td>[0]</td>\n",
              "      <td>int64</td>\n",
              "    </tr>\n",
              "    <tr>\n",
              "      <th>PeakPower</th>\n",
              "      <td>[4978, 4784, 4732, 4655, 4693, 5048, 4922, 499...</td>\n",
              "      <td>int64</td>\n",
              "    </tr>\n",
              "    <tr>\n",
              "      <th>PeakTime</th>\n",
              "      <td>[12:45, 13:10, 13:25, 13:30, 13:20, 11:50, 14:...</td>\n",
              "      <td>object</td>\n",
              "    </tr>\n",
              "    <tr>\n",
              "      <th>Condition</th>\n",
              "      <td>[Fine, Partly Cloudy, Mostly Cloudy, Cloudy, S...</td>\n",
              "      <td>object</td>\n",
              "    </tr>\n",
              "    <tr>\n",
              "      <th>MinTemp</th>\n",
              "      <td>[8, 10, 9, 11, 6, 7, 12, 14, 5, 3, 4, 13, 16, ...</td>\n",
              "      <td>int64</td>\n",
              "    </tr>\n",
              "    <tr>\n",
              "      <th>MaxTemp</th>\n",
              "      <td>[16, 18, 20, 19, 17, 15, 13, 14, 24, 31, 27, 2...</td>\n",
              "      <td>int64</td>\n",
              "    </tr>\n",
              "    <tr>\n",
              "      <th>PeakImport</th>\n",
              "      <td>[nan]</td>\n",
              "      <td>float64</td>\n",
              "    </tr>\n",
              "    <tr>\n",
              "      <th>OffPeakImport</th>\n",
              "      <td>[nan]</td>\n",
              "      <td>float64</td>\n",
              "    </tr>\n",
              "    <tr>\n",
              "      <th>Sh_Import</th>\n",
              "      <td>[nan]</td>\n",
              "      <td>float64</td>\n",
              "    </tr>\n",
              "    <tr>\n",
              "      <th>High_Sh_Import</th>\n",
              "      <td>[nan]</td>\n",
              "      <td>float64</td>\n",
              "    </tr>\n",
              "    <tr>\n",
              "      <th>temperature_max</th>\n",
              "      <td>[15.33, 16.42, 17.38, 17.37, 17.64, 15.95, 18....</td>\n",
              "      <td>float64</td>\n",
              "    </tr>\n",
              "    <tr>\n",
              "      <th>temperature_min</th>\n",
              "      <td>[7.89, 10.06, 9.79, 9.32, 8.68, 9.97, 11.57, 9...</td>\n",
              "      <td>float64</td>\n",
              "    </tr>\n",
              "    <tr>\n",
              "      <th>dewpoint_temp</th>\n",
              "      <td>[6.82, 8.87, 8.49, 9.25, 8.33, 8.8, 12.17, 9.1...</td>\n",
              "      <td>float64</td>\n",
              "    </tr>\n",
              "    <tr>\n",
              "      <th>relative_humidity</th>\n",
              "      <td>[0.88, 0.89, 0.96, 0.92, 0.91, 0.95, 0.86, 0.9...</td>\n",
              "      <td>float64</td>\n",
              "    </tr>\n",
              "    <tr>\n",
              "      <th>wind_speed</th>\n",
              "      <td>[5.22, 5.72, 4.57, 4.4, 5.26, 6.39, 6.57, 6.2,...</td>\n",
              "      <td>float64</td>\n",
              "    </tr>\n",
              "    <tr>\n",
              "      <th>wind_direction</th>\n",
              "      <td>[250.87, 257.15, 259.59, 273.8, 298.42, 302.15...</td>\n",
              "      <td>float64</td>\n",
              "    </tr>\n",
              "    <tr>\n",
              "      <th>surface_pressure</th>\n",
              "      <td>[100816.28, 100852.61, 101088.89, 101249.99, 1...</td>\n",
              "      <td>float64</td>\n",
              "    </tr>\n",
              "    <tr>\n",
              "      <th>cloud_cover</th>\n",
              "      <td>[1.0, 0.39, 0.97, 0.87, 0.99, 0.92, 0.13, 0.42...</td>\n",
              "      <td>float64</td>\n",
              "    </tr>\n",
              "    <tr>\n",
              "      <th>total_precipitation</th>\n",
              "      <td>[0.0, 0.27, 1.73, 0.59, 3.37, 0.55, 0.06, 0.21...</td>\n",
              "      <td>float64</td>\n",
              "    </tr>\n",
              "    <tr>\n",
              "      <th>snowfall</th>\n",
              "      <td>[0]</td>\n",
              "      <td>int64</td>\n",
              "    </tr>\n",
              "    <tr>\n",
              "      <th>lat</th>\n",
              "      <td>[37.804456]</td>\n",
              "      <td>float64</td>\n",
              "    </tr>\n",
              "    <tr>\n",
              "      <th>lon</th>\n",
              "      <td>[-122.271356]</td>\n",
              "      <td>float64</td>\n",
              "    </tr>\n",
              "  </tbody>\n",
              "</table>\n",
              "</div>\n",
              "      <button class=\"colab-df-convert\" onclick=\"convertToInteractive('df-f254089e-6139-4c4a-8e6e-ddf067f12fb8')\"\n",
              "              title=\"Convert this dataframe to an interactive table.\"\n",
              "              style=\"display:none;\">\n",
              "        \n",
              "  <svg xmlns=\"http://www.w3.org/2000/svg\" height=\"24px\"viewBox=\"0 0 24 24\"\n",
              "       width=\"24px\">\n",
              "    <path d=\"M0 0h24v24H0V0z\" fill=\"none\"/>\n",
              "    <path d=\"M18.56 5.44l.94 2.06.94-2.06 2.06-.94-2.06-.94-.94-2.06-.94 2.06-2.06.94zm-11 1L8.5 8.5l.94-2.06 2.06-.94-2.06-.94L8.5 2.5l-.94 2.06-2.06.94zm10 10l.94 2.06.94-2.06 2.06-.94-2.06-.94-.94-2.06-.94 2.06-2.06.94z\"/><path d=\"M17.41 7.96l-1.37-1.37c-.4-.4-.92-.59-1.43-.59-.52 0-1.04.2-1.43.59L10.3 9.45l-7.72 7.72c-.78.78-.78 2.05 0 2.83L4 21.41c.39.39.9.59 1.41.59.51 0 1.02-.2 1.41-.59l7.78-7.78 2.81-2.81c.8-.78.8-2.07 0-2.86zM5.41 20L4 18.59l7.72-7.72 1.47 1.35L5.41 20z\"/>\n",
              "  </svg>\n",
              "      </button>\n",
              "      \n",
              "  <style>\n",
              "    .colab-df-container {\n",
              "      display:flex;\n",
              "      flex-wrap:wrap;\n",
              "      gap: 12px;\n",
              "    }\n",
              "\n",
              "    .colab-df-convert {\n",
              "      background-color: #E8F0FE;\n",
              "      border: none;\n",
              "      border-radius: 50%;\n",
              "      cursor: pointer;\n",
              "      display: none;\n",
              "      fill: #1967D2;\n",
              "      height: 32px;\n",
              "      padding: 0 0 0 0;\n",
              "      width: 32px;\n",
              "    }\n",
              "\n",
              "    .colab-df-convert:hover {\n",
              "      background-color: #E2EBFA;\n",
              "      box-shadow: 0px 1px 2px rgba(60, 64, 67, 0.3), 0px 1px 3px 1px rgba(60, 64, 67, 0.15);\n",
              "      fill: #174EA6;\n",
              "    }\n",
              "\n",
              "    [theme=dark] .colab-df-convert {\n",
              "      background-color: #3B4455;\n",
              "      fill: #D2E3FC;\n",
              "    }\n",
              "\n",
              "    [theme=dark] .colab-df-convert:hover {\n",
              "      background-color: #434B5C;\n",
              "      box-shadow: 0px 1px 3px 1px rgba(0, 0, 0, 0.15);\n",
              "      filter: drop-shadow(0px 1px 2px rgba(0, 0, 0, 0.3));\n",
              "      fill: #FFFFFF;\n",
              "    }\n",
              "  </style>\n",
              "\n",
              "      <script>\n",
              "        const buttonEl =\n",
              "          document.querySelector('#df-f254089e-6139-4c4a-8e6e-ddf067f12fb8 button.colab-df-convert');\n",
              "        buttonEl.style.display =\n",
              "          google.colab.kernel.accessAllowed ? 'block' : 'none';\n",
              "\n",
              "        async function convertToInteractive(key) {\n",
              "          const element = document.querySelector('#df-f254089e-6139-4c4a-8e6e-ddf067f12fb8');\n",
              "          const dataTable =\n",
              "            await google.colab.kernel.invokeFunction('convertToInteractive',\n",
              "                                                     [key], {});\n",
              "          if (!dataTable) return;\n",
              "\n",
              "          const docLinkHtml = 'Like what you see? Visit the ' +\n",
              "            '<a target=\"_blank\" href=https://colab.research.google.com/notebooks/data_table.ipynb>data table notebook</a>'\n",
              "            + ' to learn more about interactive tables.';\n",
              "          element.innerHTML = '';\n",
              "          dataTable['output_type'] = 'display_data';\n",
              "          await google.colab.output.renderOutput(dataTable, element);\n",
              "          const docLink = document.createElement('div');\n",
              "          docLink.innerHTML = docLinkHtml;\n",
              "          element.appendChild(docLink);\n",
              "        }\n",
              "      </script>\n",
              "    </div>\n",
              "  </div>\n",
              "  "
            ]
          },
          "metadata": {},
          "execution_count": 10
        }
      ]
    },
    {
      "cell_type": "code",
      "source": [
        "train.drop(['Generated','Exported','PeakPower', 'PeakTime', 'Condition','Consumption', 'MinTemp','MaxTemp', 'PeakImport', 'OffPeakImport', 'Sh_Import', 'High_Sh_Import'], axis=1, inplace=True)"
      ],
      "metadata": {
        "id": "mIffqJCr5W9r"
      },
      "execution_count": 11,
      "outputs": []
    },
    {
      "cell_type": "markdown",
      "metadata": {
        "id": "uK4DxgtKw6NN"
      },
      "source": [
        "##Missing Data"
      ]
    },
    {
      "cell_type": "code",
      "execution_count": 12,
      "metadata": {
        "id": "lGLQb_B8cLbS"
      },
      "outputs": [],
      "source": [
        "def check_missing(df):\n",
        "    total = df.isnull().sum().sort_values(ascending=False)\n",
        "    percent = (df.isnull().sum()/df.isnull().count()*100).sort_values(ascending=False)\n",
        "    return pd.concat([total, percent], axis=1, keys=['Total', 'Percent missing'])"
      ]
    },
    {
      "cell_type": "code",
      "execution_count": 13,
      "metadata": {
        "colab": {
          "base_uri": "https://localhost:8080/",
          "height": 488
        },
        "id": "OR92Qe9gcLbT",
        "outputId": "114bb493-036c-444e-f0e4-bbe447389977"
      },
      "outputs": [
        {
          "output_type": "execute_result",
          "data": {
            "text/plain": [
              "                     Total  Percent missing\n",
              "Date                     0              0.0\n",
              "Efficiency               0              0.0\n",
              "temperature_max          0              0.0\n",
              "temperature_min          0              0.0\n",
              "dewpoint_temp            0              0.0\n",
              "relative_humidity        0              0.0\n",
              "wind_speed               0              0.0\n",
              "wind_direction           0              0.0\n",
              "surface_pressure         0              0.0\n",
              "cloud_cover              0              0.0\n",
              "total_precipitation      0              0.0\n",
              "snowfall                 0              0.0\n",
              "lat                      0              0.0\n",
              "lon                      0              0.0"
            ],
            "text/html": [
              "\n",
              "  <div id=\"df-d690bd05-3aba-43df-81e3-f961b3810c50\">\n",
              "    <div class=\"colab-df-container\">\n",
              "      <div>\n",
              "<style scoped>\n",
              "    .dataframe tbody tr th:only-of-type {\n",
              "        vertical-align: middle;\n",
              "    }\n",
              "\n",
              "    .dataframe tbody tr th {\n",
              "        vertical-align: top;\n",
              "    }\n",
              "\n",
              "    .dataframe thead th {\n",
              "        text-align: right;\n",
              "    }\n",
              "</style>\n",
              "<table border=\"1\" class=\"dataframe\">\n",
              "  <thead>\n",
              "    <tr style=\"text-align: right;\">\n",
              "      <th></th>\n",
              "      <th>Total</th>\n",
              "      <th>Percent missing</th>\n",
              "    </tr>\n",
              "  </thead>\n",
              "  <tbody>\n",
              "    <tr>\n",
              "      <th>Date</th>\n",
              "      <td>0</td>\n",
              "      <td>0.0</td>\n",
              "    </tr>\n",
              "    <tr>\n",
              "      <th>Efficiency</th>\n",
              "      <td>0</td>\n",
              "      <td>0.0</td>\n",
              "    </tr>\n",
              "    <tr>\n",
              "      <th>temperature_max</th>\n",
              "      <td>0</td>\n",
              "      <td>0.0</td>\n",
              "    </tr>\n",
              "    <tr>\n",
              "      <th>temperature_min</th>\n",
              "      <td>0</td>\n",
              "      <td>0.0</td>\n",
              "    </tr>\n",
              "    <tr>\n",
              "      <th>dewpoint_temp</th>\n",
              "      <td>0</td>\n",
              "      <td>0.0</td>\n",
              "    </tr>\n",
              "    <tr>\n",
              "      <th>relative_humidity</th>\n",
              "      <td>0</td>\n",
              "      <td>0.0</td>\n",
              "    </tr>\n",
              "    <tr>\n",
              "      <th>wind_speed</th>\n",
              "      <td>0</td>\n",
              "      <td>0.0</td>\n",
              "    </tr>\n",
              "    <tr>\n",
              "      <th>wind_direction</th>\n",
              "      <td>0</td>\n",
              "      <td>0.0</td>\n",
              "    </tr>\n",
              "    <tr>\n",
              "      <th>surface_pressure</th>\n",
              "      <td>0</td>\n",
              "      <td>0.0</td>\n",
              "    </tr>\n",
              "    <tr>\n",
              "      <th>cloud_cover</th>\n",
              "      <td>0</td>\n",
              "      <td>0.0</td>\n",
              "    </tr>\n",
              "    <tr>\n",
              "      <th>total_precipitation</th>\n",
              "      <td>0</td>\n",
              "      <td>0.0</td>\n",
              "    </tr>\n",
              "    <tr>\n",
              "      <th>snowfall</th>\n",
              "      <td>0</td>\n",
              "      <td>0.0</td>\n",
              "    </tr>\n",
              "    <tr>\n",
              "      <th>lat</th>\n",
              "      <td>0</td>\n",
              "      <td>0.0</td>\n",
              "    </tr>\n",
              "    <tr>\n",
              "      <th>lon</th>\n",
              "      <td>0</td>\n",
              "      <td>0.0</td>\n",
              "    </tr>\n",
              "  </tbody>\n",
              "</table>\n",
              "</div>\n",
              "      <button class=\"colab-df-convert\" onclick=\"convertToInteractive('df-d690bd05-3aba-43df-81e3-f961b3810c50')\"\n",
              "              title=\"Convert this dataframe to an interactive table.\"\n",
              "              style=\"display:none;\">\n",
              "        \n",
              "  <svg xmlns=\"http://www.w3.org/2000/svg\" height=\"24px\"viewBox=\"0 0 24 24\"\n",
              "       width=\"24px\">\n",
              "    <path d=\"M0 0h24v24H0V0z\" fill=\"none\"/>\n",
              "    <path d=\"M18.56 5.44l.94 2.06.94-2.06 2.06-.94-2.06-.94-.94-2.06-.94 2.06-2.06.94zm-11 1L8.5 8.5l.94-2.06 2.06-.94-2.06-.94L8.5 2.5l-.94 2.06-2.06.94zm10 10l.94 2.06.94-2.06 2.06-.94-2.06-.94-.94-2.06-.94 2.06-2.06.94z\"/><path d=\"M17.41 7.96l-1.37-1.37c-.4-.4-.92-.59-1.43-.59-.52 0-1.04.2-1.43.59L10.3 9.45l-7.72 7.72c-.78.78-.78 2.05 0 2.83L4 21.41c.39.39.9.59 1.41.59.51 0 1.02-.2 1.41-.59l7.78-7.78 2.81-2.81c.8-.78.8-2.07 0-2.86zM5.41 20L4 18.59l7.72-7.72 1.47 1.35L5.41 20z\"/>\n",
              "  </svg>\n",
              "      </button>\n",
              "      \n",
              "  <style>\n",
              "    .colab-df-container {\n",
              "      display:flex;\n",
              "      flex-wrap:wrap;\n",
              "      gap: 12px;\n",
              "    }\n",
              "\n",
              "    .colab-df-convert {\n",
              "      background-color: #E8F0FE;\n",
              "      border: none;\n",
              "      border-radius: 50%;\n",
              "      cursor: pointer;\n",
              "      display: none;\n",
              "      fill: #1967D2;\n",
              "      height: 32px;\n",
              "      padding: 0 0 0 0;\n",
              "      width: 32px;\n",
              "    }\n",
              "\n",
              "    .colab-df-convert:hover {\n",
              "      background-color: #E2EBFA;\n",
              "      box-shadow: 0px 1px 2px rgba(60, 64, 67, 0.3), 0px 1px 3px 1px rgba(60, 64, 67, 0.15);\n",
              "      fill: #174EA6;\n",
              "    }\n",
              "\n",
              "    [theme=dark] .colab-df-convert {\n",
              "      background-color: #3B4455;\n",
              "      fill: #D2E3FC;\n",
              "    }\n",
              "\n",
              "    [theme=dark] .colab-df-convert:hover {\n",
              "      background-color: #434B5C;\n",
              "      box-shadow: 0px 1px 3px 1px rgba(0, 0, 0, 0.15);\n",
              "      filter: drop-shadow(0px 1px 2px rgba(0, 0, 0, 0.3));\n",
              "      fill: #FFFFFF;\n",
              "    }\n",
              "  </style>\n",
              "\n",
              "      <script>\n",
              "        const buttonEl =\n",
              "          document.querySelector('#df-d690bd05-3aba-43df-81e3-f961b3810c50 button.colab-df-convert');\n",
              "        buttonEl.style.display =\n",
              "          google.colab.kernel.accessAllowed ? 'block' : 'none';\n",
              "\n",
              "        async function convertToInteractive(key) {\n",
              "          const element = document.querySelector('#df-d690bd05-3aba-43df-81e3-f961b3810c50');\n",
              "          const dataTable =\n",
              "            await google.colab.kernel.invokeFunction('convertToInteractive',\n",
              "                                                     [key], {});\n",
              "          if (!dataTable) return;\n",
              "\n",
              "          const docLinkHtml = 'Like what you see? Visit the ' +\n",
              "            '<a target=\"_blank\" href=https://colab.research.google.com/notebooks/data_table.ipynb>data table notebook</a>'\n",
              "            + ' to learn more about interactive tables.';\n",
              "          element.innerHTML = '';\n",
              "          dataTable['output_type'] = 'display_data';\n",
              "          await google.colab.output.renderOutput(dataTable, element);\n",
              "          const docLink = document.createElement('div');\n",
              "          docLink.innerHTML = docLinkHtml;\n",
              "          element.appendChild(docLink);\n",
              "        }\n",
              "      </script>\n",
              "    </div>\n",
              "  </div>\n",
              "  "
            ]
          },
          "metadata": {},
          "execution_count": 13
        }
      ],
      "source": [
        "check_missing(train) #percentage of missing value"
      ]
    },
    {
      "cell_type": "code",
      "source": [
        "#@title\n",
        "plt.figure(figsize=(18,3))\n",
        "sns.heatmap(train.isnull(), cbar=False, cmap = \"hot\")"
      ],
      "metadata": {
        "colab": {
          "base_uri": "https://localhost:8080/",
          "height": 350
        },
        "id": "PlYu9-QMrLd8",
        "outputId": "a196a054-7ba8-4aaf-d28f-31afbfbff14a"
      },
      "execution_count": 14,
      "outputs": [
        {
          "output_type": "execute_result",
          "data": {
            "text/plain": [
              "<matplotlib.axes._subplots.AxesSubplot at 0x7fd6ca639410>"
            ]
          },
          "metadata": {},
          "execution_count": 14
        },
        {
          "output_type": "display_data",
          "data": {
            "text/plain": [
              "<Figure size 1296x216 with 1 Axes>"
            ],
            "image/png": "[encoded data removed]"
          },
          "metadata": {
            "needs_background": "light"
          }
        }
      ]
    },
    {
      "cell_type": "markdown",
      "metadata": {
        "id": "ULFm7WJKJQj_"
      },
      "source": [
        "# Feature Engineering"
      ]
    },
    {
      "cell_type": "markdown",
      "metadata": {
        "id": "kBc2Exjqbr1t"
      },
      "source": [
        "#### Correlated Features\n",
        "Correlation gives an indication of how related the changes are between two variables. If two\n",
        "variables change in the same direction they are positively correlated."
      ]
    },
    {
      "cell_type": "code",
      "execution_count": 15,
      "metadata": {
        "id": "2Nz7xZZ08udC",
        "colab": {
          "base_uri": "https://localhost:8080/",
          "height": 728
        },
        "outputId": "4ae4f18a-3ebd-4e81-94ec-44ad196efd16"
      },
      "outputs": [
        {
          "output_type": "execute_result",
          "data": {
            "text/plain": [
              "<matplotlib.axes._subplots.AxesSubplot at 0x7fd6c62215d0>"
            ]
          },
          "metadata": {},
          "execution_count": 15
        },
        {
          "output_type": "display_data",
          "data": {
            "text/plain": [
              "<Figure size 1296x720 with 2 Axes>"
            ],
            "image/png": "[encoded data removed]"
          },
          "metadata": {
            "needs_background": "light"
          }
        }
      ],
      "source": [
        "plt.figure(figsize=(18,10))\n",
        "sns.heatmap(train.corr(), annot=True, cmap=colormap)"
      ]
    },
    {
      "cell_type": "markdown",
      "source": [
        "####Datetime Features"
      ],
      "metadata": {
        "id": "RILYUmOD3ABO"
      }
    },
    {
      "cell_type": "code",
      "source": [
        "train[\"Date\"] = train[\"Date\"].astype(str)"
      ],
      "metadata": {
        "id": "ti8vzwzoAchv"
      },
      "execution_count": 16,
      "outputs": []
    },
    {
      "cell_type": "code",
      "source": [
        "train[\"DateTime\"] = train[\"Date\"].apply(lambda x: datetime.strptime(x, \"%Y%m%d\"))"
      ],
      "metadata": {
        "id": "KPKs7D4Q_i1O"
      },
      "execution_count": 17,
      "outputs": []
    },
    {
      "cell_type": "code",
      "source": [
        "# parse datetime column \n",
        "dt = pd.DatetimeIndex(train['DateTime'])\n",
        "train.set_index(dt, inplace=True)"
      ],
      "metadata": {
        "id": "keXjd5vv2auY"
      },
      "execution_count": 18,
      "outputs": []
    },
    {
      "cell_type": "code",
      "source": [
        "train['dt_date'] = dt.date\n",
        "train['day'] = dt.day\n",
        "train['month'] = dt.month\n",
        "train['year'] = dt.year\n",
        "train['dayweek'] = dt.dayofweek"
      ],
      "metadata": {
        "id": "_B9LV0_I1_5H"
      },
      "execution_count": 19,
      "outputs": []
    },
    {
      "cell_type": "code",
      "source": [
        "grouped_date_df = train.groupby('dt_date') \n",
        "grouped_day_df = train.groupby('day')\n",
        "grouped_month_df = train.groupby('month')\n",
        "grouped_year_df = train.groupby('year')\n"
      ],
      "metadata": {
        "id": "iV2l9TsnBsYK"
      },
      "execution_count": 20,
      "outputs": []
    },
    {
      "cell_type": "code",
      "source": [
        "dayOfWeek={0:'Monday', 1:'Tuesday', 2:'Wednesday', 3:'Thursday', 4:'Friday', 5:'Saturday', 6:'Sunday'}\n",
        "train['day_name'] = train['DateTime'].dt.dayofweek.map(dayOfWeek)"
      ],
      "metadata": {
        "id": "TP5Z-LVDEq5l"
      },
      "execution_count": 21,
      "outputs": []
    },
    {
      "cell_type": "code",
      "source": [
        "grouped_dayweek_df = train.groupby('day_name',sort=False)"
      ],
      "metadata": {
        "id": "4KszkQZbGGUp"
      },
      "execution_count": 22,
      "outputs": []
    },
    {
      "cell_type": "code",
      "source": [
        "grouped_date_df['Efficiency'].agg(np.mean).plot(linewidth=2,color='steelblue',title =\"Average PV Efficiency per Day\", figsize=(16, 3));"
      ],
      "metadata": {
        "colab": {
          "base_uri": "https://localhost:8080/",
          "height": 256
        },
        "id": "Grjhii6L6edc",
        "outputId": "b9a220e2-2486-433b-eaf4-fbaf8743dad3"
      },
      "execution_count": 23,
      "outputs": [
        {
          "output_type": "display_data",
          "data": {
            "text/plain": [
              "<Figure size 1152x216 with 1 Axes>"
            ],
            "image/png": "[encoded data removed]"
          },
          "metadata": {
            "needs_background": "light"
          }
        }
      ]
    },
    {
      "cell_type": "code",
      "source": [
        "grouped_month_df['Efficiency'].agg(np.mean).plot(kind='bar', linewidth=2,color='teal',title =\"Average PV Efficiency per Month\", figsize=(16, 3));"
      ],
      "metadata": {
        "colab": {
          "base_uri": "https://localhost:8080/",
          "height": 259
        },
        "id": "ujGO5LwpDzy-",
        "outputId": "3f4f0221-92f7-460e-86d3-0ecb7fc49f3d"
      },
      "execution_count": 24,
      "outputs": [
        {
          "output_type": "display_data",
          "data": {
            "text/plain": [
              "<Figure size 1152x216 with 1 Axes>"
            ],
            "image/png": "[encoded data removed]"
          },
          "metadata": {
            "needs_background": "light"
          }
        }
      ]
    },
    {
      "cell_type": "code",
      "source": [
        "grouped_dayweek_df['Efficiency'].agg(np.mean).plot(linewidth=2,color='darkorange',title =\"Average Efficiency per Week Day\", figsize=(16, 3));"
      ],
      "metadata": {
        "colab": {
          "base_uri": "https://localhost:8080/",
          "height": 256
        },
        "id": "ut2Kvw-yEL0F",
        "outputId": "3f56dfa5-03be-484b-8cf4-78281c2971d2"
      },
      "execution_count": 25,
      "outputs": [
        {
          "output_type": "display_data",
          "data": {
            "text/plain": [
              "<Figure size 1152x216 with 1 Axes>"
            ],
            "image/png": "[encoded data removed]"
          },
          "metadata": {
            "needs_background": "light"
          }
        }
      ]
    },
    {
      "cell_type": "code",
      "source": [
        "train.reset_index(drop=True, inplace=True)"
      ],
      "metadata": {
        "id": "2Q4jOMed-lB3"
      },
      "execution_count": 26,
      "outputs": []
    },
    {
      "cell_type": "markdown",
      "source": [
        "## One Hot Encoding"
      ],
      "metadata": {
        "id": "Seh03bOJdLS2"
      }
    },
    {
      "cell_type": "code",
      "source": [
        "def check_cat_features(df):\n",
        "  categoricals = [var for var in df.columns if df[var].dtype !='int64' and df[var].dtype !='float64']\n",
        "  return df[categoricals].columns"
      ],
      "metadata": {
        "id": "nFylVuObx1kI"
      },
      "execution_count": 27,
      "outputs": []
    },
    {
      "cell_type": "code",
      "source": [
        "check_cat_features(train)"
      ],
      "metadata": {
        "colab": {
          "base_uri": "https://localhost:8080/"
        },
        "id": "xmu7hcuLyDqL",
        "outputId": "14a91e77-96ca-4cdd-faf8-0a2cff8eced3"
      },
      "execution_count": 28,
      "outputs": [
        {
          "output_type": "execute_result",
          "data": {
            "text/plain": [
              "Index(['Date', 'DateTime', 'dt_date', 'day_name'], dtype='object')"
            ]
          },
          "metadata": {},
          "execution_count": 28
        }
      ]
    },
    {
      "cell_type": "code",
      "source": [
        "train.drop(['Date', 'DateTime', 'dt_date', 'dayweek', 'day_name'], axis=1, inplace=True)"
      ],
      "metadata": {
        "id": "yh97Vq2Cy7j7"
      },
      "execution_count": 29,
      "outputs": []
    },
    {
      "cell_type": "code",
      "source": [
        "#dates droped and no need to encode\n",
        "cats_to_encode=[]"
      ],
      "metadata": {
        "id": "CJBGdkHqdpde"
      },
      "execution_count": 30,
      "outputs": []
    },
    {
      "cell_type": "code",
      "source": [
        "le = LabelEncoder()\n",
        "for var in cats_to_encode:\n",
        "    le = LabelEncoder()\n",
        "    train[var]=le.fit_transform(train[var].astype('str'))"
      ],
      "metadata": {
        "id": "cyTYOXQ-dzad"
      },
      "execution_count": 31,
      "outputs": []
    },
    {
      "cell_type": "code",
      "source": [
        "check_cat_features(train)"
      ],
      "metadata": {
        "colab": {
          "base_uri": "https://localhost:8080/"
        },
        "id": "YnHLMyQo2tU2",
        "outputId": "00d0c1c6-79e3-4721-f203-1fcb09b3430a"
      },
      "execution_count": 32,
      "outputs": [
        {
          "output_type": "execute_result",
          "data": {
            "text/plain": [
              "Index([], dtype='object')"
            ]
          },
          "metadata": {},
          "execution_count": 32
        }
      ]
    },
    {
      "cell_type": "markdown",
      "source": [
        "##Feature Importance"
      ],
      "metadata": {
        "id": "MrCIwq-hNwLr"
      }
    },
    {
      "cell_type": "code",
      "source": [
        "xgb = XGBRegressor(learning_rate=0.01,n_estimators=3460,\n",
        "                 max_depth=3, min_child_weight=0,\n",
        "                                     gamma=0, subsample=0.7,\n",
        "                                     colsample_bytree=0.7,\n",
        "                                     objective='reg:linear', nthread=-1,\n",
        "                                     scale_pos_weight=1, seed=27,\n",
        "                                     reg_alpha=0.00006)"
      ],
      "metadata": {
        "id": "NjGlhWT4hsz1"
      },
      "execution_count": 33,
      "outputs": []
    },
    {
      "cell_type": "code",
      "source": [
        "label = train['Efficiency'].tolist()"
      ],
      "metadata": {
        "id": "PjccxnISPD1M"
      },
      "execution_count": 34,
      "outputs": []
    },
    {
      "cell_type": "code",
      "source": [
        "features = train.drop(['Efficiency'], axis = 1)"
      ],
      "metadata": {
        "id": "luiiWlAng7Vr"
      },
      "execution_count": 35,
      "outputs": []
    },
    {
      "cell_type": "code",
      "source": [
        "#xgb.fit(features._get_numeric_data(),label)\n",
        "xgb.fit(features,label)"
      ],
      "metadata": {
        "colab": {
          "base_uri": "https://localhost:8080/"
        },
        "id": "m26HNQTCXs4s",
        "outputId": "53a13468-0866-468e-db67-36083207636f"
      },
      "execution_count": 36,
      "outputs": [
        {
          "output_type": "stream",
          "name": "stdout",
          "text": [
            "[04:47:28] WARNING: /workspace/src/objective/regression_obj.cu:152: reg:linear is now deprecated in favor of reg:squarederror.\n"
          ]
        },
        {
          "output_type": "execute_result",
          "data": {
            "text/plain": [
              "XGBRegressor(colsample_bytree=0.7, learning_rate=0.01, min_child_weight=0,\n",
              "             n_estimators=3460, nthread=-1, reg_alpha=6e-05, seed=27,\n",
              "             subsample=0.7)"
            ]
          },
          "metadata": {},
          "execution_count": 36
        }
      ]
    },
    {
      "cell_type": "code",
      "source": [
        "#@title\n",
        "important_feats = xgb.feature_importances_"
      ],
      "metadata": {
        "id": "vRI5QLR83WFl"
      },
      "execution_count": 37,
      "outputs": []
    },
    {
      "cell_type": "code",
      "source": [
        "def feature_importances (model, X, y, percentage):\n",
        "  model.fit(X,y)\n",
        "  sorted_idx = model.feature_importances_.argsort()\n",
        "  feat_importances = pd.Series(model.feature_importances_[sorted_idx], index=X.columns[sorted_idx])\n",
        "  feat_importances = feat_importances.to_frame(name='FeatureRating')\n",
        "  return feat_importances.sort_values('FeatureRating',ascending=False).head(round(percentage*len(feat_importances)))"
      ],
      "metadata": {
        "id": "rb43pMBf3ZKk"
      },
      "execution_count": 38,
      "outputs": []
    },
    {
      "cell_type": "code",
      "source": [
        "selected_features = feature_importances(xgb, features, label, 0.6)"
      ],
      "metadata": {
        "colab": {
          "base_uri": "https://localhost:8080/"
        },
        "id": "yX2OZ7et3fuu",
        "outputId": "f2d6cadf-3267-4ac3-8f5e-3f7981ffbe65"
      },
      "execution_count": 39,
      "outputs": [
        {
          "output_type": "stream",
          "name": "stdout",
          "text": [
            "[04:47:30] WARNING: /workspace/src/objective/regression_obj.cu:152: reg:linear is now deprecated in favor of reg:squarederror.\n"
          ]
        }
      ]
    },
    {
      "cell_type": "code",
      "source": [
        "selected_features.sort_values('FeatureRating',ascending=True).plot(kind='barh', figsize = (18,8))"
      ],
      "metadata": {
        "colab": {
          "base_uri": "https://localhost:8080/",
          "height": 494
        },
        "id": "0sUytLRE3kKM",
        "outputId": "93fb85cb-b722-4f23-a4f4-158b3349845a"
      },
      "execution_count": 40,
      "outputs": [
        {
          "output_type": "execute_result",
          "data": {
            "text/plain": [
              "<matplotlib.axes._subplots.AxesSubplot at 0x7fd6c6461690>"
            ]
          },
          "metadata": {},
          "execution_count": 40
        },
        {
          "output_type": "display_data",
          "data": {
            "text/plain": [
              "<Figure size 1296x576 with 1 Axes>"
            ],
            "image/png": "[encoded data removed]"
          },
          "metadata": {
            "needs_background": "light"
          }
        }
      ]
    },
    {
      "cell_type": "markdown",
      "source": [
        "## Feature Selection"
      ],
      "metadata": {
        "id": "i1N3qqENk9UL"
      }
    },
    {
      "cell_type": "code",
      "source": [
        "selected_cols = selected_features.index.to_list()"
      ],
      "metadata": {
        "id": "pLFgRUef3rJt"
      },
      "execution_count": 41,
      "outputs": []
    },
    {
      "cell_type": "code",
      "source": [
        "selected_train = train[selected_cols]"
      ],
      "metadata": {
        "id": "RtDI5Wld4G1z"
      },
      "execution_count": 42,
      "outputs": []
    },
    {
      "cell_type": "markdown",
      "metadata": {
        "id": "bb6jCOCQiAmP"
      },
      "source": [
        "# Model Training"
      ]
    },
    {
      "cell_type": "markdown",
      "metadata": {
        "id": "SWN2X18UOmXL"
      },
      "source": [
        "##Split Train and Test Data"
      ]
    },
    {
      "cell_type": "code",
      "source": [
        "y=train['Efficiency']\n",
        "X=train.drop('Efficiency', axis=1)"
      ],
      "metadata": {
        "id": "GgoK3xNhhN_l"
      },
      "execution_count": 43,
      "outputs": []
    },
    {
      "cell_type": "code",
      "source": [
        "# feature_names = X.columns\n",
        "\n",
        "X_train, X_test, y_train, y_test = train_test_split(X, y, test_size=0.3, random_state=0)\n",
        "X_train_sel, X_test_sel, y_train_sel, y_test_sel = train_test_split(selected_train, y, test_size=0.3, random_state=0)"
      ],
      "metadata": {
        "id": "uXbBi9_XiMTS"
      },
      "execution_count": 47,
      "outputs": []
    },
    {
      "cell_type": "markdown",
      "metadata": {
        "id": "iOhR9e5cwOju"
      },
      "source": [
        "### Regression Model Assumptions"
      ]
    },
    {
      "cell_type": "markdown",
      "metadata": {
        "id": "pQKU_x7OcZPo"
      },
      "source": [
        "Transformation is required to treat the skewed features and make them normally distributed."
      ]
    },
    {
      "cell_type": "code",
      "execution_count": 48,
      "metadata": {
        "id": "-Pv10ojgcm9A"
      },
      "outputs": [],
      "source": [
        "def normality_plot(X):\n",
        "\n",
        "    fig, axes = plt.subplots(1, 2, figsize=(10, 5))\n",
        "\n",
        "    sns.distplot(X, fit=norm, ax=axes[0])\n",
        "    axes[0].set_title('Distribution Plot')\n",
        "\n",
        "    axes[1] = stats.probplot((X), plot=plt)\n",
        "    plt.tight_layout()\n"
      ]
    },
    {
      "cell_type": "code",
      "source": [
        "normality_plot(y_train)"
      ],
      "metadata": {
        "colab": {
          "base_uri": "https://localhost:8080/",
          "height": 369
        },
        "id": "_kSkVkjlkad_",
        "outputId": "a21a5b35-d513-48bb-a3ac-8b62557b0ada"
      },
      "execution_count": 54,
      "outputs": [
        {
          "output_type": "display_data",
          "data": {
            "text/plain": [
              "<Figure size 720x360 with 2 Axes>"
            ],
            "image/png": "[encoded data removed]"
          },
          "metadata": {
            "needs_background": "light"
          }
        }
      ]
    },
    {
      "cell_type": "code",
      "source": [
        "#Return the natural logarithm of one plus the input array, element-wise to log-normalize data\n",
        "y_train_log = np.log1p(y_train)"
      ],
      "metadata": {
        "id": "yqG8nQ7WMuef"
      },
      "execution_count": 55,
      "outputs": []
    },
    {
      "cell_type": "code",
      "source": [
        "normality_plot(y_train_log)"
      ],
      "metadata": {
        "colab": {
          "base_uri": "https://localhost:8080/",
          "height": 369
        },
        "id": "lck8hxbWyGDO",
        "outputId": "01dd5bee-fe65-42a3-82ec-adc877348109"
      },
      "execution_count": 56,
      "outputs": [
        {
          "output_type": "display_data",
          "data": {
            "text/plain": [
              "<Figure size 720x360 with 2 Axes>"
            ],
            "image/png": "[encoded data removed]"
          },
          "metadata": {
            "needs_background": "light"
          }
        }
      ]
    },
    {
      "cell_type": "markdown",
      "metadata": {
        "id": "XfNJBFaORyFq"
      },
      "source": [
        "##Machine Learning Algorithms"
      ]
    },
    {
      "cell_type": "code",
      "execution_count": 57,
      "metadata": {
        "id": "iDiJcQdQbF_w"
      },
      "outputs": [],
      "source": [
        "model_names = ['LinearRegression', 'Ridge', 'Lasso', 'RandomForestRegressor', 'BaggingRegressor', 'GradientBoostingRegressor', 'AdaBoostRegressor', 'XGBRegressor', ]  "
      ]
    },
    {
      "cell_type": "code",
      "source": [
        "regressions = [\n",
        "    LinearRegression(),\n",
        "    Ridge(),\n",
        "    Lasso(alpha =0.0005, random_state=0),\n",
        "    RandomForestRegressor(n_estimators=1200,\n",
        "                          max_depth=15,\n",
        "                          min_samples_split=5,\n",
        "                          min_samples_leaf=5,\n",
        "                          max_features=None,\n",
        "                          oob_score=True,\n",
        "                          random_state=0),\n",
        "    BaggingRegressor(n_estimators = 200, n_jobs = -1, random_state = 10),\n",
        "    GradientBoostingRegressor(n_estimators=3000, learning_rate=0.05,\n",
        "                                   max_depth=4, max_features='sqrt',\n",
        "                                   min_samples_leaf=15, min_samples_split=10, \n",
        "                                   loss='huber', random_state =0),\n",
        "    AdaBoostRegressor(n_estimators=100, random_state=0), \n",
        "    XGBRegressor(learning_rate=0.01,n_estimators=3460,\n",
        "                 max_depth=3, min_child_weight=0,\n",
        "                                     gamma=0, subsample=0.7,\n",
        "                                     colsample_bytree=0.7,\n",
        "                                     objective='reg:linear', nthread=-1,\n",
        "                                     scale_pos_weight=1, seed=27,\n",
        "                                     reg_alpha=0.00006),]"
      ],
      "metadata": {
        "id": "4xxXBDPkEpBQ"
      },
      "execution_count": 58,
      "outputs": []
    },
    {
      "cell_type": "markdown",
      "metadata": {
        "id": "TzGKWday-jMH"
      },
      "source": [
        "Every model in Scikit-learn has a score method after being trained on X_train, y_train. Models have a score method providing a default evaluation criterion for the problem they are designed to solve. "
      ]
    },
    {
      "cell_type": "code",
      "execution_count": 59,
      "metadata": {
        "id": "CL0ni4r86Cog"
      },
      "outputs": [],
      "source": [
        "def predict_models(names, models, X_train, y_train):\n",
        "\n",
        "    y_preds = []\n",
        "    for name, model in zip(names, models):\n",
        "        model.fit(X_train, y_train)\n",
        "        y_pred = model.predict(X_train).tolist()\n",
        "        y_preds.append(y_pred)\n",
        " \n",
        "    pred_dict = dict(zip(names, y_preds))\n",
        "    pred_dict = pd.DataFrame.from_dict(pred_dict)\n",
        "    return pred_dict"
      ]
    },
    {
      "cell_type": "code",
      "execution_count": 60,
      "metadata": {
        "id": "IgVpZhQ369W6",
        "colab": {
          "base_uri": "https://localhost:8080/"
        },
        "outputId": "f5be28ba-d3e5-4c62-e2bb-ef08493bfd86"
      },
      "outputs": [
        {
          "output_type": "stream",
          "name": "stdout",
          "text": [
            "[04:51:20] WARNING: /workspace/src/objective/regression_obj.cu:152: reg:linear is now deprecated in favor of reg:squarederror.\n"
          ]
        }
      ],
      "source": [
        "pred_dict = predict_models(model_names, regressions, X_train, y_train)"
      ]
    },
    {
      "cell_type": "code",
      "source": [
        "pred_dict.head()"
      ],
      "metadata": {
        "colab": {
          "base_uri": "https://localhost:8080/",
          "height": 250
        },
        "id": "h38CXwQji1lA",
        "outputId": "7045d4b3-d07c-4c24-ff22-bd9e83b6f73d"
      },
      "execution_count": 61,
      "outputs": [
        {
          "output_type": "execute_result",
          "data": {
            "text/plain": [
              "   LinearRegression     Ridge     Lasso  RandomForestRegressor  \\\n",
              "0          4.889864  4.778187  4.874443               4.367395   \n",
              "1          6.309690  6.272331  6.305211               5.376281   \n",
              "2          2.049942  2.105622  2.060344               2.823249   \n",
              "3          6.202987  6.129168  6.196689               6.319963   \n",
              "4          3.996450  4.110005  4.009076               5.182232   \n",
              "\n",
              "   BaggingRegressor  GradientBoostingRegressor  AdaBoostRegressor  \\\n",
              "0          4.492990                   4.736050           4.193806   \n",
              "1          5.261850                   5.079972           5.342828   \n",
              "2          2.863305                   2.857910           2.967054   \n",
              "3          6.426505                   6.615715           5.541989   \n",
              "4          5.630710                   6.035416           5.127581   \n",
              "\n",
              "   XGBRegressor  \n",
              "0      4.739341  \n",
              "1      5.272454  \n",
              "2      2.621214  \n",
              "3      6.447137  \n",
              "4      5.932770  "
            ],
            "text/html": [
              "\n",
              "  <div id=\"df-6ed396f5-6d05-4116-a4c2-a9071aaf7dd1\">\n",
              "    <div class=\"colab-df-container\">\n",
              "      <div>\n",
              "<style scoped>\n",
              "    .dataframe tbody tr th:only-of-type {\n",
              "        vertical-align: middle;\n",
              "    }\n",
              "\n",
              "    .dataframe tbody tr th {\n",
              "        vertical-align: top;\n",
              "    }\n",
              "\n",
              "    .dataframe thead th {\n",
              "        text-align: right;\n",
              "    }\n",
              "</style>\n",
              "<table border=\"1\" class=\"dataframe\">\n",
              "  <thead>\n",
              "    <tr style=\"text-align: right;\">\n",
              "      <th></th>\n",
              "      <th>LinearRegression</th>\n",
              "      <th>Ridge</th>\n",
              "      <th>Lasso</th>\n",
              "      <th>RandomForestRegressor</th>\n",
              "      <th>BaggingRegressor</th>\n",
              "      <th>GradientBoostingRegressor</th>\n",
              "      <th>AdaBoostRegressor</th>\n",
              "      <th>XGBRegressor</th>\n",
              "    </tr>\n",
              "  </thead>\n",
              "  <tbody>\n",
              "    <tr>\n",
              "      <th>0</th>\n",
              "      <td>4.889864</td>\n",
              "      <td>4.778187</td>\n",
              "      <td>4.874443</td>\n",
              "      <td>4.367395</td>\n",
              "      <td>4.492990</td>\n",
              "      <td>4.736050</td>\n",
              "      <td>4.193806</td>\n",
              "      <td>4.739341</td>\n",
              "    </tr>\n",
              "    <tr>\n",
              "      <th>1</th>\n",
              "      <td>6.309690</td>\n",
              "      <td>6.272331</td>\n",
              "      <td>6.305211</td>\n",
              "      <td>5.376281</td>\n",
              "      <td>5.261850</td>\n",
              "      <td>5.079972</td>\n",
              "      <td>5.342828</td>\n",
              "      <td>5.272454</td>\n",
              "    </tr>\n",
              "    <tr>\n",
              "      <th>2</th>\n",
              "      <td>2.049942</td>\n",
              "      <td>2.105622</td>\n",
              "      <td>2.060344</td>\n",
              "      <td>2.823249</td>\n",
              "      <td>2.863305</td>\n",
              "      <td>2.857910</td>\n",
              "      <td>2.967054</td>\n",
              "      <td>2.621214</td>\n",
              "    </tr>\n",
              "    <tr>\n",
              "      <th>3</th>\n",
              "      <td>6.202987</td>\n",
              "      <td>6.129168</td>\n",
              "      <td>6.196689</td>\n",
              "      <td>6.319963</td>\n",
              "      <td>6.426505</td>\n",
              "      <td>6.615715</td>\n",
              "      <td>5.541989</td>\n",
              "      <td>6.447137</td>\n",
              "    </tr>\n",
              "    <tr>\n",
              "      <th>4</th>\n",
              "      <td>3.996450</td>\n",
              "      <td>4.110005</td>\n",
              "      <td>4.009076</td>\n",
              "      <td>5.182232</td>\n",
              "      <td>5.630710</td>\n",
              "      <td>6.035416</td>\n",
              "      <td>5.127581</td>\n",
              "      <td>5.932770</td>\n",
              "    </tr>\n",
              "  </tbody>\n",
              "</table>\n",
              "</div>\n",
              "      <button class=\"colab-df-convert\" onclick=\"convertToInteractive('df-6ed396f5-6d05-4116-a4c2-a9071aaf7dd1')\"\n",
              "              title=\"Convert this dataframe to an interactive table.\"\n",
              "              style=\"display:none;\">\n",
              "        \n",
              "  <svg xmlns=\"http://www.w3.org/2000/svg\" height=\"24px\"viewBox=\"0 0 24 24\"\n",
              "       width=\"24px\">\n",
              "    <path d=\"M0 0h24v24H0V0z\" fill=\"none\"/>\n",
              "    <path d=\"M18.56 5.44l.94 2.06.94-2.06 2.06-.94-2.06-.94-.94-2.06-.94 2.06-2.06.94zm-11 1L8.5 8.5l.94-2.06 2.06-.94-2.06-.94L8.5 2.5l-.94 2.06-2.06.94zm10 10l.94 2.06.94-2.06 2.06-.94-2.06-.94-.94-2.06-.94 2.06-2.06.94z\"/><path d=\"M17.41 7.96l-1.37-1.37c-.4-.4-.92-.59-1.43-.59-.52 0-1.04.2-1.43.59L10.3 9.45l-7.72 7.72c-.78.78-.78 2.05 0 2.83L4 21.41c.39.39.9.59 1.41.59.51 0 1.02-.2 1.41-.59l7.78-7.78 2.81-2.81c.8-.78.8-2.07 0-2.86zM5.41 20L4 18.59l7.72-7.72 1.47 1.35L5.41 20z\"/>\n",
              "  </svg>\n",
              "      </button>\n",
              "      \n",
              "  <style>\n",
              "    .colab-df-container {\n",
              "      display:flex;\n",
              "      flex-wrap:wrap;\n",
              "      gap: 12px;\n",
              "    }\n",
              "\n",
              "    .colab-df-convert {\n",
              "      background-color: #E8F0FE;\n",
              "      border: none;\n",
              "      border-radius: 50%;\n",
              "      cursor: pointer;\n",
              "      display: none;\n",
              "      fill: #1967D2;\n",
              "      height: 32px;\n",
              "      padding: 0 0 0 0;\n",
              "      width: 32px;\n",
              "    }\n",
              "\n",
              "    .colab-df-convert:hover {\n",
              "      background-color: #E2EBFA;\n",
              "      box-shadow: 0px 1px 2px rgba(60, 64, 67, 0.3), 0px 1px 3px 1px rgba(60, 64, 67, 0.15);\n",
              "      fill: #174EA6;\n",
              "    }\n",
              "\n",
              "    [theme=dark] .colab-df-convert {\n",
              "      background-color: #3B4455;\n",
              "      fill: #D2E3FC;\n",
              "    }\n",
              "\n",
              "    [theme=dark] .colab-df-convert:hover {\n",
              "      background-color: #434B5C;\n",
              "      box-shadow: 0px 1px 3px 1px rgba(0, 0, 0, 0.15);\n",
              "      filter: drop-shadow(0px 1px 2px rgba(0, 0, 0, 0.3));\n",
              "      fill: #FFFFFF;\n",
              "    }\n",
              "  </style>\n",
              "\n",
              "      <script>\n",
              "        const buttonEl =\n",
              "          document.querySelector('#df-6ed396f5-6d05-4116-a4c2-a9071aaf7dd1 button.colab-df-convert');\n",
              "        buttonEl.style.display =\n",
              "          google.colab.kernel.accessAllowed ? 'block' : 'none';\n",
              "\n",
              "        async function convertToInteractive(key) {\n",
              "          const element = document.querySelector('#df-6ed396f5-6d05-4116-a4c2-a9071aaf7dd1');\n",
              "          const dataTable =\n",
              "            await google.colab.kernel.invokeFunction('convertToInteractive',\n",
              "                                                     [key], {});\n",
              "          if (!dataTable) return;\n",
              "\n",
              "          const docLinkHtml = 'Like what you see? Visit the ' +\n",
              "            '<a target=\"_blank\" href=https://colab.research.google.com/notebooks/data_table.ipynb>data table notebook</a>'\n",
              "            + ' to learn more about interactive tables.';\n",
              "          element.innerHTML = '';\n",
              "          dataTable['output_type'] = 'display_data';\n",
              "          await google.colab.output.renderOutput(dataTable, element);\n",
              "          const docLink = document.createElement('div');\n",
              "          docLink.innerHTML = docLinkHtml;\n",
              "          element.appendChild(docLink);\n",
              "        }\n",
              "      </script>\n",
              "    </div>\n",
              "  </div>\n",
              "  "
            ]
          },
          "metadata": {},
          "execution_count": 61
        }
      ]
    },
    {
      "cell_type": "code",
      "source": [
        "pred_dict_log = predict_models(model_names, regressions, X_train, y_train_log)\n",
        "pred_dict_log = pred_dict_log"
      ],
      "metadata": {
        "colab": {
          "base_uri": "https://localhost:8080/"
        },
        "id": "9LYnXwHKF4z_",
        "outputId": "5bab7ff0-3745-493c-f8c0-1c15c526c90e"
      },
      "execution_count": 62,
      "outputs": [
        {
          "output_type": "stream",
          "name": "stdout",
          "text": [
            "[04:51:38] WARNING: /workspace/src/objective/regression_obj.cu:152: reg:linear is now deprecated in favor of reg:squarederror.\n"
          ]
        }
      ]
    },
    {
      "cell_type": "code",
      "source": [
        "pred_dict_log.head()"
      ],
      "metadata": {
        "colab": {
          "base_uri": "https://localhost:8080/",
          "height": 250
        },
        "id": "1rnxsLqtGC1m",
        "outputId": "2e0537f6-b921-423c-f60a-bff0dcc8c3e9"
      },
      "execution_count": 63,
      "outputs": [
        {
          "output_type": "execute_result",
          "data": {
            "text/plain": [
              "   LinearRegression     Ridge     Lasso  RandomForestRegressor  \\\n",
              "0          1.716614  1.695974  1.703175               1.663311   \n",
              "1          2.058853  2.051797  2.057008               1.844599   \n",
              "2          1.153478  1.163628  1.160753               1.331265   \n",
              "3          2.032801  2.018799  2.028177               1.982962   \n",
              "4          1.520228  1.541035  1.535699               1.763206   \n",
              "\n",
              "   BaggingRegressor  GradientBoostingRegressor  AdaBoostRegressor  \\\n",
              "0          1.702335                   1.746628           1.540865   \n",
              "1          1.822572                   1.806759           1.783780   \n",
              "2          1.337133                   1.349034           1.225258   \n",
              "3          2.000695                   2.024609           1.735019   \n",
              "4          1.843527                   1.938302           1.638079   \n",
              "\n",
              "   XGBRegressor  \n",
              "0      1.744649  \n",
              "1      1.843979  \n",
              "2      1.298897  \n",
              "3      1.988223  \n",
              "4      1.880546  "
            ],
            "text/html": [
              "\n",
              "  <div id=\"df-809eda54-5a2b-4ebb-b405-3b30842e32e1\">\n",
              "    <div class=\"colab-df-container\">\n",
              "      <div>\n",
              "<style scoped>\n",
              "    .dataframe tbody tr th:only-of-type {\n",
              "        vertical-align: middle;\n",
              "    }\n",
              "\n",
              "    .dataframe tbody tr th {\n",
              "        vertical-align: top;\n",
              "    }\n",
              "\n",
              "    .dataframe thead th {\n",
              "        text-align: right;\n",
              "    }\n",
              "</style>\n",
              "<table border=\"1\" class=\"dataframe\">\n",
              "  <thead>\n",
              "    <tr style=\"text-align: right;\">\n",
              "      <th></th>\n",
              "      <th>LinearRegression</th>\n",
              "      <th>Ridge</th>\n",
              "      <th>Lasso</th>\n",
              "      <th>RandomForestRegressor</th>\n",
              "      <th>BaggingRegressor</th>\n",
              "      <th>GradientBoostingRegressor</th>\n",
              "      <th>AdaBoostRegressor</th>\n",
              "      <th>XGBRegressor</th>\n",
              "    </tr>\n",
              "  </thead>\n",
              "  <tbody>\n",
              "    <tr>\n",
              "      <th>0</th>\n",
              "      <td>1.716614</td>\n",
              "      <td>1.695974</td>\n",
              "      <td>1.703175</td>\n",
              "      <td>1.663311</td>\n",
              "      <td>1.702335</td>\n",
              "      <td>1.746628</td>\n",
              "      <td>1.540865</td>\n",
              "      <td>1.744649</td>\n",
              "    </tr>\n",
              "    <tr>\n",
              "      <th>1</th>\n",
              "      <td>2.058853</td>\n",
              "      <td>2.051797</td>\n",
              "      <td>2.057008</td>\n",
              "      <td>1.844599</td>\n",
              "      <td>1.822572</td>\n",
              "      <td>1.806759</td>\n",
              "      <td>1.783780</td>\n",
              "      <td>1.843979</td>\n",
              "    </tr>\n",
              "    <tr>\n",
              "      <th>2</th>\n",
              "      <td>1.153478</td>\n",
              "      <td>1.163628</td>\n",
              "      <td>1.160753</td>\n",
              "      <td>1.331265</td>\n",
              "      <td>1.337133</td>\n",
              "      <td>1.349034</td>\n",
              "      <td>1.225258</td>\n",
              "      <td>1.298897</td>\n",
              "    </tr>\n",
              "    <tr>\n",
              "      <th>3</th>\n",
              "      <td>2.032801</td>\n",
              "      <td>2.018799</td>\n",
              "      <td>2.028177</td>\n",
              "      <td>1.982962</td>\n",
              "      <td>2.000695</td>\n",
              "      <td>2.024609</td>\n",
              "      <td>1.735019</td>\n",
              "      <td>1.988223</td>\n",
              "    </tr>\n",
              "    <tr>\n",
              "      <th>4</th>\n",
              "      <td>1.520228</td>\n",
              "      <td>1.541035</td>\n",
              "      <td>1.535699</td>\n",
              "      <td>1.763206</td>\n",
              "      <td>1.843527</td>\n",
              "      <td>1.938302</td>\n",
              "      <td>1.638079</td>\n",
              "      <td>1.880546</td>\n",
              "    </tr>\n",
              "  </tbody>\n",
              "</table>\n",
              "</div>\n",
              "      <button class=\"colab-df-convert\" onclick=\"convertToInteractive('df-809eda54-5a2b-4ebb-b405-3b30842e32e1')\"\n",
              "              title=\"Convert this dataframe to an interactive table.\"\n",
              "              style=\"display:none;\">\n",
              "        \n",
              "  <svg xmlns=\"http://www.w3.org/2000/svg\" height=\"24px\"viewBox=\"0 0 24 24\"\n",
              "       width=\"24px\">\n",
              "    <path d=\"M0 0h24v24H0V0z\" fill=\"none\"/>\n",
              "    <path d=\"M18.56 5.44l.94 2.06.94-2.06 2.06-.94-2.06-.94-.94-2.06-.94 2.06-2.06.94zm-11 1L8.5 8.5l.94-2.06 2.06-.94-2.06-.94L8.5 2.5l-.94 2.06-2.06.94zm10 10l.94 2.06.94-2.06 2.06-.94-2.06-.94-.94-2.06-.94 2.06-2.06.94z\"/><path d=\"M17.41 7.96l-1.37-1.37c-.4-.4-.92-.59-1.43-.59-.52 0-1.04.2-1.43.59L10.3 9.45l-7.72 7.72c-.78.78-.78 2.05 0 2.83L4 21.41c.39.39.9.59 1.41.59.51 0 1.02-.2 1.41-.59l7.78-7.78 2.81-2.81c.8-.78.8-2.07 0-2.86zM5.41 20L4 18.59l7.72-7.72 1.47 1.35L5.41 20z\"/>\n",
              "  </svg>\n",
              "      </button>\n",
              "      \n",
              "  <style>\n",
              "    .colab-df-container {\n",
              "      display:flex;\n",
              "      flex-wrap:wrap;\n",
              "      gap: 12px;\n",
              "    }\n",
              "\n",
              "    .colab-df-convert {\n",
              "      background-color: #E8F0FE;\n",
              "      border: none;\n",
              "      border-radius: 50%;\n",
              "      cursor: pointer;\n",
              "      display: none;\n",
              "      fill: #1967D2;\n",
              "      height: 32px;\n",
              "      padding: 0 0 0 0;\n",
              "      width: 32px;\n",
              "    }\n",
              "\n",
              "    .colab-df-convert:hover {\n",
              "      background-color: #E2EBFA;\n",
              "      box-shadow: 0px 1px 2px rgba(60, 64, 67, 0.3), 0px 1px 3px 1px rgba(60, 64, 67, 0.15);\n",
              "      fill: #174EA6;\n",
              "    }\n",
              "\n",
              "    [theme=dark] .colab-df-convert {\n",
              "      background-color: #3B4455;\n",
              "      fill: #D2E3FC;\n",
              "    }\n",
              "\n",
              "    [theme=dark] .colab-df-convert:hover {\n",
              "      background-color: #434B5C;\n",
              "      box-shadow: 0px 1px 3px 1px rgba(0, 0, 0, 0.15);\n",
              "      filter: drop-shadow(0px 1px 2px rgba(0, 0, 0, 0.3));\n",
              "      fill: #FFFFFF;\n",
              "    }\n",
              "  </style>\n",
              "\n",
              "      <script>\n",
              "        const buttonEl =\n",
              "          document.querySelector('#df-809eda54-5a2b-4ebb-b405-3b30842e32e1 button.colab-df-convert');\n",
              "        buttonEl.style.display =\n",
              "          google.colab.kernel.accessAllowed ? 'block' : 'none';\n",
              "\n",
              "        async function convertToInteractive(key) {\n",
              "          const element = document.querySelector('#df-809eda54-5a2b-4ebb-b405-3b30842e32e1');\n",
              "          const dataTable =\n",
              "            await google.colab.kernel.invokeFunction('convertToInteractive',\n",
              "                                                     [key], {});\n",
              "          if (!dataTable) return;\n",
              "\n",
              "          const docLinkHtml = 'Like what you see? Visit the ' +\n",
              "            '<a target=\"_blank\" href=https://colab.research.google.com/notebooks/data_table.ipynb>data table notebook</a>'\n",
              "            + ' to learn more about interactive tables.';\n",
              "          element.innerHTML = '';\n",
              "          dataTable['output_type'] = 'display_data';\n",
              "          await google.colab.output.renderOutput(dataTable, element);\n",
              "          const docLink = document.createElement('div');\n",
              "          docLink.innerHTML = docLinkHtml;\n",
              "          element.appendChild(docLink);\n",
              "        }\n",
              "      </script>\n",
              "    </div>\n",
              "  </div>\n",
              "  "
            ]
          },
          "metadata": {},
          "execution_count": 63
        }
      ]
    },
    {
      "cell_type": "code",
      "execution_count": 64,
      "metadata": {
        "colab": {
          "base_uri": "https://localhost:8080/"
        },
        "outputId": "eb87f6fb-0d4e-44df-e243-f03f92a8f554",
        "id": "ons8KDXu5EjR"
      },
      "outputs": [
        {
          "output_type": "stream",
          "name": "stdout",
          "text": [
            "[04:51:56] WARNING: /workspace/src/objective/regression_obj.cu:152: reg:linear is now deprecated in favor of reg:squarederror.\n"
          ]
        }
      ],
      "source": [
        "pred_dict_sel = predict_models(model_names, regressions, X_train_sel, y_train_sel)"
      ]
    },
    {
      "cell_type": "code",
      "source": [
        "pred_dict_sel.head()"
      ],
      "metadata": {
        "colab": {
          "base_uri": "https://localhost:8080/",
          "height": 250
        },
        "outputId": "6bae7f3c-8a50-4f2b-d5c4-23fd1663120e",
        "id": "x1Jqj0lF5EjT"
      },
      "execution_count": 65,
      "outputs": [
        {
          "output_type": "execute_result",
          "data": {
            "text/plain": [
              "   LinearRegression     Ridge     Lasso  RandomForestRegressor  \\\n",
              "0          4.783838  4.781335  4.783580               4.351757   \n",
              "1          6.076407  6.079893  6.080066               5.563075   \n",
              "2          2.248248  2.252108  2.250147               2.722593   \n",
              "3          6.070954  6.077084  6.077189               6.264632   \n",
              "4          4.195891  4.194781  4.196595               5.272698   \n",
              "\n",
              "   BaggingRegressor  GradientBoostingRegressor  AdaBoostRegressor  \\\n",
              "0          4.529780                   4.729013           4.137273   \n",
              "1          5.283270                   5.083003           5.149164   \n",
              "2          2.795255                   2.867970           2.666800   \n",
              "3          6.408260                   6.628841           5.365000   \n",
              "4          5.814575                   6.346833           4.984519   \n",
              "\n",
              "   XGBRegressor  \n",
              "0      4.724240  \n",
              "1      5.336614  \n",
              "2      2.555328  \n",
              "3      6.508322  \n",
              "4      5.884542  "
            ],
            "text/html": [
              "\n",
              "  <div id=\"df-70c35d69-bbad-4908-a807-d8f1ddf003f2\">\n",
              "    <div class=\"colab-df-container\">\n",
              "      <div>\n",
              "<style scoped>\n",
              "    .dataframe tbody tr th:only-of-type {\n",
              "        vertical-align: middle;\n",
              "    }\n",
              "\n",
              "    .dataframe tbody tr th {\n",
              "        vertical-align: top;\n",
              "    }\n",
              "\n",
              "    .dataframe thead th {\n",
              "        text-align: right;\n",
              "    }\n",
              "</style>\n",
              "<table border=\"1\" class=\"dataframe\">\n",
              "  <thead>\n",
              "    <tr style=\"text-align: right;\">\n",
              "      <th></th>\n",
              "      <th>LinearRegression</th>\n",
              "      <th>Ridge</th>\n",
              "      <th>Lasso</th>\n",
              "      <th>RandomForestRegressor</th>\n",
              "      <th>BaggingRegressor</th>\n",
              "      <th>GradientBoostingRegressor</th>\n",
              "      <th>AdaBoostRegressor</th>\n",
              "      <th>XGBRegressor</th>\n",
              "    </tr>\n",
              "  </thead>\n",
              "  <tbody>\n",
              "    <tr>\n",
              "      <th>0</th>\n",
              "      <td>4.783838</td>\n",
              "      <td>4.781335</td>\n",
              "      <td>4.783580</td>\n",
              "      <td>4.351757</td>\n",
              "      <td>4.529780</td>\n",
              "      <td>4.729013</td>\n",
              "      <td>4.137273</td>\n",
              "      <td>4.724240</td>\n",
              "    </tr>\n",
              "    <tr>\n",
              "      <th>1</th>\n",
              "      <td>6.076407</td>\n",
              "      <td>6.079893</td>\n",
              "      <td>6.080066</td>\n",
              "      <td>5.563075</td>\n",
              "      <td>5.283270</td>\n",
              "      <td>5.083003</td>\n",
              "      <td>5.149164</td>\n",
              "      <td>5.336614</td>\n",
              "    </tr>\n",
              "    <tr>\n",
              "      <th>2</th>\n",
              "      <td>2.248248</td>\n",
              "      <td>2.252108</td>\n",
              "      <td>2.250147</td>\n",
              "      <td>2.722593</td>\n",
              "      <td>2.795255</td>\n",
              "      <td>2.867970</td>\n",
              "      <td>2.666800</td>\n",
              "      <td>2.555328</td>\n",
              "    </tr>\n",
              "    <tr>\n",
              "      <th>3</th>\n",
              "      <td>6.070954</td>\n",
              "      <td>6.077084</td>\n",
              "      <td>6.077189</td>\n",
              "      <td>6.264632</td>\n",
              "      <td>6.408260</td>\n",
              "      <td>6.628841</td>\n",
              "      <td>5.365000</td>\n",
              "      <td>6.508322</td>\n",
              "    </tr>\n",
              "    <tr>\n",
              "      <th>4</th>\n",
              "      <td>4.195891</td>\n",
              "      <td>4.194781</td>\n",
              "      <td>4.196595</td>\n",
              "      <td>5.272698</td>\n",
              "      <td>5.814575</td>\n",
              "      <td>6.346833</td>\n",
              "      <td>4.984519</td>\n",
              "      <td>5.884542</td>\n",
              "    </tr>\n",
              "  </tbody>\n",
              "</table>\n",
              "</div>\n",
              "      <button class=\"colab-df-convert\" onclick=\"convertToInteractive('df-70c35d69-bbad-4908-a807-d8f1ddf003f2')\"\n",
              "              title=\"Convert this dataframe to an interactive table.\"\n",
              "              style=\"display:none;\">\n",
              "        \n",
              "  <svg xmlns=\"http://www.w3.org/2000/svg\" height=\"24px\"viewBox=\"0 0 24 24\"\n",
              "       width=\"24px\">\n",
              "    <path d=\"M0 0h24v24H0V0z\" fill=\"none\"/>\n",
              "    <path d=\"M18.56 5.44l.94 2.06.94-2.06 2.06-.94-2.06-.94-.94-2.06-.94 2.06-2.06.94zm-11 1L8.5 8.5l.94-2.06 2.06-.94-2.06-.94L8.5 2.5l-.94 2.06-2.06.94zm10 10l.94 2.06.94-2.06 2.06-.94-2.06-.94-.94-2.06-.94 2.06-2.06.94z\"/><path d=\"M17.41 7.96l-1.37-1.37c-.4-.4-.92-.59-1.43-.59-.52 0-1.04.2-1.43.59L10.3 9.45l-7.72 7.72c-.78.78-.78 2.05 0 2.83L4 21.41c.39.39.9.59 1.41.59.51 0 1.02-.2 1.41-.59l7.78-7.78 2.81-2.81c.8-.78.8-2.07 0-2.86zM5.41 20L4 18.59l7.72-7.72 1.47 1.35L5.41 20z\"/>\n",
              "  </svg>\n",
              "      </button>\n",
              "      \n",
              "  <style>\n",
              "    .colab-df-container {\n",
              "      display:flex;\n",
              "      flex-wrap:wrap;\n",
              "      gap: 12px;\n",
              "    }\n",
              "\n",
              "    .colab-df-convert {\n",
              "      background-color: #E8F0FE;\n",
              "      border: none;\n",
              "      border-radius: 50%;\n",
              "      cursor: pointer;\n",
              "      display: none;\n",
              "      fill: #1967D2;\n",
              "      height: 32px;\n",
              "      padding: 0 0 0 0;\n",
              "      width: 32px;\n",
              "    }\n",
              "\n",
              "    .colab-df-convert:hover {\n",
              "      background-color: #E2EBFA;\n",
              "      box-shadow: 0px 1px 2px rgba(60, 64, 67, 0.3), 0px 1px 3px 1px rgba(60, 64, 67, 0.15);\n",
              "      fill: #174EA6;\n",
              "    }\n",
              "\n",
              "    [theme=dark] .colab-df-convert {\n",
              "      background-color: #3B4455;\n",
              "      fill: #D2E3FC;\n",
              "    }\n",
              "\n",
              "    [theme=dark] .colab-df-convert:hover {\n",
              "      background-color: #434B5C;\n",
              "      box-shadow: 0px 1px 3px 1px rgba(0, 0, 0, 0.15);\n",
              "      filter: drop-shadow(0px 1px 2px rgba(0, 0, 0, 0.3));\n",
              "      fill: #FFFFFF;\n",
              "    }\n",
              "  </style>\n",
              "\n",
              "      <script>\n",
              "        const buttonEl =\n",
              "          document.querySelector('#df-70c35d69-bbad-4908-a807-d8f1ddf003f2 button.colab-df-convert');\n",
              "        buttonEl.style.display =\n",
              "          google.colab.kernel.accessAllowed ? 'block' : 'none';\n",
              "\n",
              "        async function convertToInteractive(key) {\n",
              "          const element = document.querySelector('#df-70c35d69-bbad-4908-a807-d8f1ddf003f2');\n",
              "          const dataTable =\n",
              "            await google.colab.kernel.invokeFunction('convertToInteractive',\n",
              "                                                     [key], {});\n",
              "          if (!dataTable) return;\n",
              "\n",
              "          const docLinkHtml = 'Like what you see? Visit the ' +\n",
              "            '<a target=\"_blank\" href=https://colab.research.google.com/notebooks/data_table.ipynb>data table notebook</a>'\n",
              "            + ' to learn more about interactive tables.';\n",
              "          element.innerHTML = '';\n",
              "          dataTable['output_type'] = 'display_data';\n",
              "          await google.colab.output.renderOutput(dataTable, element);\n",
              "          const docLink = document.createElement('div');\n",
              "          docLink.innerHTML = docLinkHtml;\n",
              "          element.appendChild(docLink);\n",
              "        }\n",
              "      </script>\n",
              "    </div>\n",
              "  </div>\n",
              "  "
            ]
          },
          "metadata": {},
          "execution_count": 65
        }
      ]
    },
    {
      "cell_type": "markdown",
      "source": [
        "# Model Evaluation"
      ],
      "metadata": {
        "id": "s9Y3Y_8Gy1z4"
      }
    },
    {
      "cell_type": "markdown",
      "source": [
        "Root Mean Squared Error"
      ],
      "metadata": {
        "id": "DOhyWlQ_61j6"
      }
    },
    {
      "cell_type": "markdown",
      "metadata": {
        "id": "EJvp0-deKOnx"
      },
      "source": [
        "RMSE is the square root of MSE which measures accuracy, to compare errors of different calculation models for the same dataset. RMSE is an example of a Euclidean distance between two regressions by averaging they specific vector errors over a whole regression."
      ]
    },
    {
      "cell_type": "markdown",
      "metadata": {
        "id": "acDK0rasLsXP"
      },
      "source": [
        "$$ RMSE = \\sqrt{\\sum_{i=1}^{N}(y_i-y_{i}^{pred})^2} $$"
      ]
    },
    {
      "cell_type": "markdown",
      "source": [
        "###Performance Metrics"
      ],
      "metadata": {
        "id": "6f7vZWuVQdWV"
      }
    },
    {
      "cell_type": "code",
      "source": [
        "def get_metrics_values(y_test, pred_dict, metric_name):\n",
        "\n",
        "  models = pred_dict.columns.tolist()\n",
        "\n",
        "  metrics_list = []\n",
        "  for model in models:\n",
        "    if metric_name == 'RMSE':\n",
        "      metric = mean_squared_error(y_test, pred_dict[model], squared=False)\n",
        "    elif metric_name == 'RMSLE':\n",
        "      metric = mean_squared_log_error(y_test, pred_dict[model], squared=False)\n",
        "    metrics_list.append(metric)\n",
        "  \n",
        "  metrics_dict = dict(zip(models, metrics_list))\n",
        "  metrics_df = pd.DataFrame([metrics_dict])\n",
        "  metrics_df['Evaluation'] = metric_name\n",
        "  first_col = metrics_df.pop('Evaluation')\n",
        "  metrics_df.insert(0, 'Evaluation', first_col)\n",
        "  return metrics_df"
      ],
      "metadata": {
        "id": "_-go3GGbIl1Q"
      },
      "execution_count": 66,
      "outputs": []
    },
    {
      "cell_type": "markdown",
      "metadata": {
        "id": "PWEVDgsNsDk8"
      },
      "source": [
        "#### RMSE (sklearn)"
      ]
    },
    {
      "cell_type": "code",
      "source": [
        "rmse = get_metrics_values(y_train, pred_dict, metric_name = 'RMSE')\n",
        "rmse"
      ],
      "metadata": {
        "colab": {
          "base_uri": "https://localhost:8080/",
          "height": 145
        },
        "outputId": "43a3374b-bdce-4366-8cf1-e2c9c851ec4a",
        "id": "3rPJNGwM7OIW"
      },
      "execution_count": 67,
      "outputs": [
        {
          "output_type": "execute_result",
          "data": {
            "text/plain": [
              "  Evaluation  LinearRegression     Ridge     Lasso  RandomForestRegressor  \\\n",
              "0       RMSE          1.216824  1.219931  1.216877                0.54904   \n",
              "\n",
              "   BaggingRegressor  GradientBoostingRegressor  AdaBoostRegressor  \\\n",
              "0          0.308349                   0.223583           0.805849   \n",
              "\n",
              "   XGBRegressor  \n",
              "0      0.187873  "
            ],
            "text/html": [
              "\n",
              "  <div id=\"df-df82b202-655c-416a-bfe2-ad3b47c766aa\">\n",
              "    <div class=\"colab-df-container\">\n",
              "      <div>\n",
              "<style scoped>\n",
              "    .dataframe tbody tr th:only-of-type {\n",
              "        vertical-align: middle;\n",
              "    }\n",
              "\n",
              "    .dataframe tbody tr th {\n",
              "        vertical-align: top;\n",
              "    }\n",
              "\n",
              "    .dataframe thead th {\n",
              "        text-align: right;\n",
              "    }\n",
              "</style>\n",
              "<table border=\"1\" class=\"dataframe\">\n",
              "  <thead>\n",
              "    <tr style=\"text-align: right;\">\n",
              "      <th></th>\n",
              "      <th>Evaluation</th>\n",
              "      <th>LinearRegression</th>\n",
              "      <th>Ridge</th>\n",
              "      <th>Lasso</th>\n",
              "      <th>RandomForestRegressor</th>\n",
              "      <th>BaggingRegressor</th>\n",
              "      <th>GradientBoostingRegressor</th>\n",
              "      <th>AdaBoostRegressor</th>\n",
              "      <th>XGBRegressor</th>\n",
              "    </tr>\n",
              "  </thead>\n",
              "  <tbody>\n",
              "    <tr>\n",
              "      <th>0</th>\n",
              "      <td>RMSE</td>\n",
              "      <td>1.216824</td>\n",
              "      <td>1.219931</td>\n",
              "      <td>1.216877</td>\n",
              "      <td>0.54904</td>\n",
              "      <td>0.308349</td>\n",
              "      <td>0.223583</td>\n",
              "      <td>0.805849</td>\n",
              "      <td>0.187873</td>\n",
              "    </tr>\n",
              "  </tbody>\n",
              "</table>\n",
              "</div>\n",
              "      <button class=\"colab-df-convert\" onclick=\"convertToInteractive('df-df82b202-655c-416a-bfe2-ad3b47c766aa')\"\n",
              "              title=\"Convert this dataframe to an interactive table.\"\n",
              "              style=\"display:none;\">\n",
              "        \n",
              "  <svg xmlns=\"http://www.w3.org/2000/svg\" height=\"24px\"viewBox=\"0 0 24 24\"\n",
              "       width=\"24px\">\n",
              "    <path d=\"M0 0h24v24H0V0z\" fill=\"none\"/>\n",
              "    <path d=\"M18.56 5.44l.94 2.06.94-2.06 2.06-.94-2.06-.94-.94-2.06-.94 2.06-2.06.94zm-11 1L8.5 8.5l.94-2.06 2.06-.94-2.06-.94L8.5 2.5l-.94 2.06-2.06.94zm10 10l.94 2.06.94-2.06 2.06-.94-2.06-.94-.94-2.06-.94 2.06-2.06.94z\"/><path d=\"M17.41 7.96l-1.37-1.37c-.4-.4-.92-.59-1.43-.59-.52 0-1.04.2-1.43.59L10.3 9.45l-7.72 7.72c-.78.78-.78 2.05 0 2.83L4 21.41c.39.39.9.59 1.41.59.51 0 1.02-.2 1.41-.59l7.78-7.78 2.81-2.81c.8-.78.8-2.07 0-2.86zM5.41 20L4 18.59l7.72-7.72 1.47 1.35L5.41 20z\"/>\n",
              "  </svg>\n",
              "      </button>\n",
              "      \n",
              "  <style>\n",
              "    .colab-df-container {\n",
              "      display:flex;\n",
              "      flex-wrap:wrap;\n",
              "      gap: 12px;\n",
              "    }\n",
              "\n",
              "    .colab-df-convert {\n",
              "      background-color: #E8F0FE;\n",
              "      border: none;\n",
              "      border-radius: 50%;\n",
              "      cursor: pointer;\n",
              "      display: none;\n",
              "      fill: #1967D2;\n",
              "      height: 32px;\n",
              "      padding: 0 0 0 0;\n",
              "      width: 32px;\n",
              "    }\n",
              "\n",
              "    .colab-df-convert:hover {\n",
              "      background-color: #E2EBFA;\n",
              "      box-shadow: 0px 1px 2px rgba(60, 64, 67, 0.3), 0px 1px 3px 1px rgba(60, 64, 67, 0.15);\n",
              "      fill: #174EA6;\n",
              "    }\n",
              "\n",
              "    [theme=dark] .colab-df-convert {\n",
              "      background-color: #3B4455;\n",
              "      fill: #D2E3FC;\n",
              "    }\n",
              "\n",
              "    [theme=dark] .colab-df-convert:hover {\n",
              "      background-color: #434B5C;\n",
              "      box-shadow: 0px 1px 3px 1px rgba(0, 0, 0, 0.15);\n",
              "      filter: drop-shadow(0px 1px 2px rgba(0, 0, 0, 0.3));\n",
              "      fill: #FFFFFF;\n",
              "    }\n",
              "  </style>\n",
              "\n",
              "      <script>\n",
              "        const buttonEl =\n",
              "          document.querySelector('#df-df82b202-655c-416a-bfe2-ad3b47c766aa button.colab-df-convert');\n",
              "        buttonEl.style.display =\n",
              "          google.colab.kernel.accessAllowed ? 'block' : 'none';\n",
              "\n",
              "        async function convertToInteractive(key) {\n",
              "          const element = document.querySelector('#df-df82b202-655c-416a-bfe2-ad3b47c766aa');\n",
              "          const dataTable =\n",
              "            await google.colab.kernel.invokeFunction('convertToInteractive',\n",
              "                                                     [key], {});\n",
              "          if (!dataTable) return;\n",
              "\n",
              "          const docLinkHtml = 'Like what you see? Visit the ' +\n",
              "            '<a target=\"_blank\" href=https://colab.research.google.com/notebooks/data_table.ipynb>data table notebook</a>'\n",
              "            + ' to learn more about interactive tables.';\n",
              "          element.innerHTML = '';\n",
              "          dataTable['output_type'] = 'display_data';\n",
              "          await google.colab.output.renderOutput(dataTable, element);\n",
              "          const docLink = document.createElement('div');\n",
              "          docLink.innerHTML = docLinkHtml;\n",
              "          element.appendChild(docLink);\n",
              "        }\n",
              "      </script>\n",
              "    </div>\n",
              "  </div>\n",
              "  "
            ]
          },
          "metadata": {},
          "execution_count": 67
        }
      ]
    },
    {
      "cell_type": "code",
      "source": [
        "rmse_log = get_metrics_values(y_train_log, pred_dict_log, metric_name = 'RMSE')\n",
        "rmse_log"
      ],
      "metadata": {
        "colab": {
          "base_uri": "https://localhost:8080/",
          "height": 145
        },
        "id": "eaFcCTrUGJ6x",
        "outputId": "0f9fc940-3c48-4aa6-ab09-3597bac2a867"
      },
      "execution_count": 68,
      "outputs": [
        {
          "output_type": "execute_result",
          "data": {
            "text/plain": [
              "  Evaluation  LinearRegression     Ridge    Lasso  RandomForestRegressor  \\\n",
              "0       RMSE          0.281689  0.282143  0.28191               0.146617   \n",
              "\n",
              "   BaggingRegressor  GradientBoostingRegressor  AdaBoostRegressor  \\\n",
              "0          0.080091                   0.077842           0.208422   \n",
              "\n",
              "   XGBRegressor  \n",
              "0      0.041686  "
            ],
            "text/html": [
              "\n",
              "  <div id=\"df-9a780f73-e7ff-4189-824b-58bdc90b4f83\">\n",
              "    <div class=\"colab-df-container\">\n",
              "      <div>\n",
              "<style scoped>\n",
              "    .dataframe tbody tr th:only-of-type {\n",
              "        vertical-align: middle;\n",
              "    }\n",
              "\n",
              "    .dataframe tbody tr th {\n",
              "        vertical-align: top;\n",
              "    }\n",
              "\n",
              "    .dataframe thead th {\n",
              "        text-align: right;\n",
              "    }\n",
              "</style>\n",
              "<table border=\"1\" class=\"dataframe\">\n",
              "  <thead>\n",
              "    <tr style=\"text-align: right;\">\n",
              "      <th></th>\n",
              "      <th>Evaluation</th>\n",
              "      <th>LinearRegression</th>\n",
              "      <th>Ridge</th>\n",
              "      <th>Lasso</th>\n",
              "      <th>RandomForestRegressor</th>\n",
              "      <th>BaggingRegressor</th>\n",
              "      <th>GradientBoostingRegressor</th>\n",
              "      <th>AdaBoostRegressor</th>\n",
              "      <th>XGBRegressor</th>\n",
              "    </tr>\n",
              "  </thead>\n",
              "  <tbody>\n",
              "    <tr>\n",
              "      <th>0</th>\n",
              "      <td>RMSE</td>\n",
              "      <td>0.281689</td>\n",
              "      <td>0.282143</td>\n",
              "      <td>0.28191</td>\n",
              "      <td>0.146617</td>\n",
              "      <td>0.080091</td>\n",
              "      <td>0.077842</td>\n",
              "      <td>0.208422</td>\n",
              "      <td>0.041686</td>\n",
              "    </tr>\n",
              "  </tbody>\n",
              "</table>\n",
              "</div>\n",
              "      <button class=\"colab-df-convert\" onclick=\"convertToInteractive('df-9a780f73-e7ff-4189-824b-58bdc90b4f83')\"\n",
              "              title=\"Convert this dataframe to an interactive table.\"\n",
              "              style=\"display:none;\">\n",
              "        \n",
              "  <svg xmlns=\"http://www.w3.org/2000/svg\" height=\"24px\"viewBox=\"0 0 24 24\"\n",
              "       width=\"24px\">\n",
              "    <path d=\"M0 0h24v24H0V0z\" fill=\"none\"/>\n",
              "    <path d=\"M18.56 5.44l.94 2.06.94-2.06 2.06-.94-2.06-.94-.94-2.06-.94 2.06-2.06.94zm-11 1L8.5 8.5l.94-2.06 2.06-.94-2.06-.94L8.5 2.5l-.94 2.06-2.06.94zm10 10l.94 2.06.94-2.06 2.06-.94-2.06-.94-.94-2.06-.94 2.06-2.06.94z\"/><path d=\"M17.41 7.96l-1.37-1.37c-.4-.4-.92-.59-1.43-.59-.52 0-1.04.2-1.43.59L10.3 9.45l-7.72 7.72c-.78.78-.78 2.05 0 2.83L4 21.41c.39.39.9.59 1.41.59.51 0 1.02-.2 1.41-.59l7.78-7.78 2.81-2.81c.8-.78.8-2.07 0-2.86zM5.41 20L4 18.59l7.72-7.72 1.47 1.35L5.41 20z\"/>\n",
              "  </svg>\n",
              "      </button>\n",
              "      \n",
              "  <style>\n",
              "    .colab-df-container {\n",
              "      display:flex;\n",
              "      flex-wrap:wrap;\n",
              "      gap: 12px;\n",
              "    }\n",
              "\n",
              "    .colab-df-convert {\n",
              "      background-color: #E8F0FE;\n",
              "      border: none;\n",
              "      border-radius: 50%;\n",
              "      cursor: pointer;\n",
              "      display: none;\n",
              "      fill: #1967D2;\n",
              "      height: 32px;\n",
              "      padding: 0 0 0 0;\n",
              "      width: 32px;\n",
              "    }\n",
              "\n",
              "    .colab-df-convert:hover {\n",
              "      background-color: #E2EBFA;\n",
              "      box-shadow: 0px 1px 2px rgba(60, 64, 67, 0.3), 0px 1px 3px 1px rgba(60, 64, 67, 0.15);\n",
              "      fill: #174EA6;\n",
              "    }\n",
              "\n",
              "    [theme=dark] .colab-df-convert {\n",
              "      background-color: #3B4455;\n",
              "      fill: #D2E3FC;\n",
              "    }\n",
              "\n",
              "    [theme=dark] .colab-df-convert:hover {\n",
              "      background-color: #434B5C;\n",
              "      box-shadow: 0px 1px 3px 1px rgba(0, 0, 0, 0.15);\n",
              "      filter: drop-shadow(0px 1px 2px rgba(0, 0, 0, 0.3));\n",
              "      fill: #FFFFFF;\n",
              "    }\n",
              "  </style>\n",
              "\n",
              "      <script>\n",
              "        const buttonEl =\n",
              "          document.querySelector('#df-9a780f73-e7ff-4189-824b-58bdc90b4f83 button.colab-df-convert');\n",
              "        buttonEl.style.display =\n",
              "          google.colab.kernel.accessAllowed ? 'block' : 'none';\n",
              "\n",
              "        async function convertToInteractive(key) {\n",
              "          const element = document.querySelector('#df-9a780f73-e7ff-4189-824b-58bdc90b4f83');\n",
              "          const dataTable =\n",
              "            await google.colab.kernel.invokeFunction('convertToInteractive',\n",
              "                                                     [key], {});\n",
              "          if (!dataTable) return;\n",
              "\n",
              "          const docLinkHtml = 'Like what you see? Visit the ' +\n",
              "            '<a target=\"_blank\" href=https://colab.research.google.com/notebooks/data_table.ipynb>data table notebook</a>'\n",
              "            + ' to learn more about interactive tables.';\n",
              "          element.innerHTML = '';\n",
              "          dataTable['output_type'] = 'display_data';\n",
              "          await google.colab.output.renderOutput(dataTable, element);\n",
              "          const docLink = document.createElement('div');\n",
              "          docLink.innerHTML = docLinkHtml;\n",
              "          element.appendChild(docLink);\n",
              "        }\n",
              "      </script>\n",
              "    </div>\n",
              "  </div>\n",
              "  "
            ]
          },
          "metadata": {},
          "execution_count": 68
        }
      ]
    },
    {
      "cell_type": "code",
      "source": [
        "rmse_sel = get_metrics_values(y_train_sel, pred_dict_sel, metric_name = 'RMSE')\n",
        "rmse_sel"
      ],
      "metadata": {
        "colab": {
          "base_uri": "https://localhost:8080/",
          "height": 145
        },
        "outputId": "195dc9b2-f251-4733-d37d-46c89e09f787",
        "id": "iOCzFg7E5jEF"
      },
      "execution_count": 69,
      "outputs": [
        {
          "output_type": "execute_result",
          "data": {
            "text/plain": [
              "  Evaluation  LinearRegression     Ridge     Lasso  RandomForestRegressor  \\\n",
              "0       RMSE          1.235558  1.235564  1.235562               0.571848   \n",
              "\n",
              "   BaggingRegressor  GradientBoostingRegressor  AdaBoostRegressor  \\\n",
              "0          0.309223                   0.216903           0.860562   \n",
              "\n",
              "   XGBRegressor  \n",
              "0      0.233097  "
            ],
            "text/html": [
              "\n",
              "  <div id=\"df-e7c8375a-13d7-4abc-8bfb-5614c3b19f82\">\n",
              "    <div class=\"colab-df-container\">\n",
              "      <div>\n",
              "<style scoped>\n",
              "    .dataframe tbody tr th:only-of-type {\n",
              "        vertical-align: middle;\n",
              "    }\n",
              "\n",
              "    .dataframe tbody tr th {\n",
              "        vertical-align: top;\n",
              "    }\n",
              "\n",
              "    .dataframe thead th {\n",
              "        text-align: right;\n",
              "    }\n",
              "</style>\n",
              "<table border=\"1\" class=\"dataframe\">\n",
              "  <thead>\n",
              "    <tr style=\"text-align: right;\">\n",
              "      <th></th>\n",
              "      <th>Evaluation</th>\n",
              "      <th>LinearRegression</th>\n",
              "      <th>Ridge</th>\n",
              "      <th>Lasso</th>\n",
              "      <th>RandomForestRegressor</th>\n",
              "      <th>BaggingRegressor</th>\n",
              "      <th>GradientBoostingRegressor</th>\n",
              "      <th>AdaBoostRegressor</th>\n",
              "      <th>XGBRegressor</th>\n",
              "    </tr>\n",
              "  </thead>\n",
              "  <tbody>\n",
              "    <tr>\n",
              "      <th>0</th>\n",
              "      <td>RMSE</td>\n",
              "      <td>1.235558</td>\n",
              "      <td>1.235564</td>\n",
              "      <td>1.235562</td>\n",
              "      <td>0.571848</td>\n",
              "      <td>0.309223</td>\n",
              "      <td>0.216903</td>\n",
              "      <td>0.860562</td>\n",
              "      <td>0.233097</td>\n",
              "    </tr>\n",
              "  </tbody>\n",
              "</table>\n",
              "</div>\n",
              "      <button class=\"colab-df-convert\" onclick=\"convertToInteractive('df-e7c8375a-13d7-4abc-8bfb-5614c3b19f82')\"\n",
              "              title=\"Convert this dataframe to an interactive table.\"\n",
              "              style=\"display:none;\">\n",
              "        \n",
              "  <svg xmlns=\"http://www.w3.org/2000/svg\" height=\"24px\"viewBox=\"0 0 24 24\"\n",
              "       width=\"24px\">\n",
              "    <path d=\"M0 0h24v24H0V0z\" fill=\"none\"/>\n",
              "    <path d=\"M18.56 5.44l.94 2.06.94-2.06 2.06-.94-2.06-.94-.94-2.06-.94 2.06-2.06.94zm-11 1L8.5 8.5l.94-2.06 2.06-.94-2.06-.94L8.5 2.5l-.94 2.06-2.06.94zm10 10l.94 2.06.94-2.06 2.06-.94-2.06-.94-.94-2.06-.94 2.06-2.06.94z\"/><path d=\"M17.41 7.96l-1.37-1.37c-.4-.4-.92-.59-1.43-.59-.52 0-1.04.2-1.43.59L10.3 9.45l-7.72 7.72c-.78.78-.78 2.05 0 2.83L4 21.41c.39.39.9.59 1.41.59.51 0 1.02-.2 1.41-.59l7.78-7.78 2.81-2.81c.8-.78.8-2.07 0-2.86zM5.41 20L4 18.59l7.72-7.72 1.47 1.35L5.41 20z\"/>\n",
              "  </svg>\n",
              "      </button>\n",
              "      \n",
              "  <style>\n",
              "    .colab-df-container {\n",
              "      display:flex;\n",
              "      flex-wrap:wrap;\n",
              "      gap: 12px;\n",
              "    }\n",
              "\n",
              "    .colab-df-convert {\n",
              "      background-color: #E8F0FE;\n",
              "      border: none;\n",
              "      border-radius: 50%;\n",
              "      cursor: pointer;\n",
              "      display: none;\n",
              "      fill: #1967D2;\n",
              "      height: 32px;\n",
              "      padding: 0 0 0 0;\n",
              "      width: 32px;\n",
              "    }\n",
              "\n",
              "    .colab-df-convert:hover {\n",
              "      background-color: #E2EBFA;\n",
              "      box-shadow: 0px 1px 2px rgba(60, 64, 67, 0.3), 0px 1px 3px 1px rgba(60, 64, 67, 0.15);\n",
              "      fill: #174EA6;\n",
              "    }\n",
              "\n",
              "    [theme=dark] .colab-df-convert {\n",
              "      background-color: #3B4455;\n",
              "      fill: #D2E3FC;\n",
              "    }\n",
              "\n",
              "    [theme=dark] .colab-df-convert:hover {\n",
              "      background-color: #434B5C;\n",
              "      box-shadow: 0px 1px 3px 1px rgba(0, 0, 0, 0.15);\n",
              "      filter: drop-shadow(0px 1px 2px rgba(0, 0, 0, 0.3));\n",
              "      fill: #FFFFFF;\n",
              "    }\n",
              "  </style>\n",
              "\n",
              "      <script>\n",
              "        const buttonEl =\n",
              "          document.querySelector('#df-e7c8375a-13d7-4abc-8bfb-5614c3b19f82 button.colab-df-convert');\n",
              "        buttonEl.style.display =\n",
              "          google.colab.kernel.accessAllowed ? 'block' : 'none';\n",
              "\n",
              "        async function convertToInteractive(key) {\n",
              "          const element = document.querySelector('#df-e7c8375a-13d7-4abc-8bfb-5614c3b19f82');\n",
              "          const dataTable =\n",
              "            await google.colab.kernel.invokeFunction('convertToInteractive',\n",
              "                                                     [key], {});\n",
              "          if (!dataTable) return;\n",
              "\n",
              "          const docLinkHtml = 'Like what you see? Visit the ' +\n",
              "            '<a target=\"_blank\" href=https://colab.research.google.com/notebooks/data_table.ipynb>data table notebook</a>'\n",
              "            + ' to learn more about interactive tables.';\n",
              "          element.innerHTML = '';\n",
              "          dataTable['output_type'] = 'display_data';\n",
              "          await google.colab.output.renderOutput(dataTable, element);\n",
              "          const docLink = document.createElement('div');\n",
              "          docLink.innerHTML = docLinkHtml;\n",
              "          element.appendChild(docLink);\n",
              "        }\n",
              "      </script>\n",
              "    </div>\n",
              "  </div>\n",
              "  "
            ]
          },
          "metadata": {},
          "execution_count": 69
        }
      ]
    },
    {
      "cell_type": "code",
      "source": [
        "evaluation_rmse = pd.concat([rmse]).T\n",
        "evaluation_rmse_log = pd.concat([rmse_log]).T\n",
        "evaluation_rmse_sel = pd.concat([rmse_sel]).T"
      ],
      "metadata": {
        "id": "B0A6FVWlXv8m"
      },
      "execution_count": 70,
      "outputs": []
    },
    {
      "cell_type": "code",
      "source": [
        "def get_evaluation_df(evaluation_df, metric_name):\n",
        "  evaluation_df.columns = evaluation_df.iloc[0].values.tolist()\n",
        "  evaluation_df['Model'] = evaluation_df.index\n",
        "  first_col = evaluation_df.pop('Model')\n",
        "  evaluation_df.insert(0, 'Model', first_col)\n",
        "  evaluation_df.reset_index(inplace=True)\n",
        "  evaluation_df.drop(evaluation_df.index[evaluation_df['Model'] == 'Evaluation'], inplace=True)\n",
        "  evaluation_df.drop('index', axis=1, inplace=True)\n",
        "  evaluation_df.sort_values(by=[metric_name], ascending=True, inplace=True)\n",
        "  return evaluation_df"
      ],
      "metadata": {
        "id": "jt84gqxaX6rd"
      },
      "execution_count": 71,
      "outputs": []
    },
    {
      "cell_type": "code",
      "source": [
        "evaluation_rmse = get_evaluation_df(evaluation_rmse, metric_name = 'RMSE')\n",
        "evaluation_rmse_log = get_evaluation_df(evaluation_rmse_log, metric_name = 'RMSE')\n",
        "evaluation_rmse_sel = get_evaluation_df(evaluation_rmse_sel, metric_name = 'RMSE')"
      ],
      "metadata": {
        "id": "7nE1TM3M_00-"
      },
      "execution_count": 72,
      "outputs": []
    },
    {
      "cell_type": "code",
      "source": [
        "plt.figure(figsize=(12,5))\n",
        "plt.plot(evaluation_rmse.Model,evaluation_rmse.RMSE, color='orangered', linewidth=4, label=\"RMSE\")\n",
        "plt.plot(evaluation_rmse_log.Model, evaluation_rmse_log.RMSE, color='darkolivegreen', linewidth=4, label=\"RMSE Log\")\n",
        "plt.plot(evaluation_rmse_sel.Model, evaluation_rmse_sel.RMSE, color='teal', linewidth=4, label=\"RMSE Selected\", linestyle='dashed')\n",
        "plt.xticks(rotation = 45) # Rotates X-Axis \n",
        "plt.legend()\n",
        "plt.show()"
      ],
      "metadata": {
        "colab": {
          "base_uri": "https://localhost:8080/",
          "height": 451
        },
        "id": "rDBb9f6gcULt",
        "outputId": "cfebe15f-a0ef-43fc-b779-3539f4728394"
      },
      "execution_count": 73,
      "outputs": [
        {
          "output_type": "display_data",
          "data": {
            "text/plain": [
              "<Figure size 864x360 with 1 Axes>"
            ],
            "image/png": "[encoded data removed]"
          },
          "metadata": {
            "needs_background": "light"
          }
        }
      ]
    },
    {
      "cell_type": "markdown",
      "source": [
        "### Best Model Prediction"
      ],
      "metadata": {
        "id": "4WUx2_9tnKLA"
      }
    },
    {
      "cell_type": "code",
      "source": [
        "xgb = XGBRegressor(learning_rate=0.01,n_estimators=3460,\n",
        "                 max_depth=3, min_child_weight=0,\n",
        "                                     gamma=0, subsample=0.7,\n",
        "                                     colsample_bytree=0.7,\n",
        "                                     objective='reg:linear', nthread=-1,\n",
        "                                     scale_pos_weight=1, seed=27,\n",
        "                                     reg_alpha=0.00006)"
      ],
      "metadata": {
        "id": "MeuAlFlRE3Xy"
      },
      "execution_count": 86,
      "outputs": []
    },
    {
      "cell_type": "markdown",
      "source": [
        "### Train without Log"
      ],
      "metadata": {
        "id": "xbSXh3KzJ7uv"
      }
    },
    {
      "cell_type": "code",
      "source": [
        "train_predictions = xgb.fit(X_train, y_train)\n",
        "test_predictions =  train_predictions.predict(X_test)"
      ],
      "metadata": {
        "id": "0OuliYO9pgCe",
        "colab": {
          "base_uri": "https://localhost:8080/"
        },
        "outputId": "5f2f7813-5271-40f9-b6a1-c75d10ec6c75"
      },
      "execution_count": 87,
      "outputs": [
        {
          "output_type": "stream",
          "name": "stdout",
          "text": [
            "[04:55:16] WARNING: /workspace/src/objective/regression_obj.cu:152: reg:linear is now deprecated in favor of reg:squarederror.\n"
          ]
        }
      ]
    },
    {
      "cell_type": "markdown",
      "source": [
        "### Train with Log"
      ],
      "metadata": {
        "id": "vx7TqZ6nKOPP"
      }
    },
    {
      "cell_type": "code",
      "source": [
        "train_predictions_log = xgb.fit(X_train, y_train_log)\n",
        "test_predictions_log =  np.expm1(train_predictions_log.predict(X_test))"
      ],
      "metadata": {
        "colab": {
          "base_uri": "https://localhost:8080/"
        },
        "outputId": "40d5cd8b-105c-431f-a72f-22bdc231076b",
        "id": "gmmELnyLKOPv"
      },
      "execution_count": 88,
      "outputs": [
        {
          "output_type": "stream",
          "name": "stdout",
          "text": [
            "[04:55:18] WARNING: /workspace/src/objective/regression_obj.cu:152: reg:linear is now deprecated in favor of reg:squarederror.\n"
          ]
        }
      ]
    },
    {
      "cell_type": "markdown",
      "source": [
        "### Train with Selected Features"
      ],
      "metadata": {
        "id": "NGvPdFQr-S9L"
      }
    },
    {
      "cell_type": "code",
      "source": [
        "train_predictions_sel = xgb.fit(X_train_sel, y_train_sel)\n",
        "test_predictions_sel =  train_predictions_sel.predict(X_test_sel)"
      ],
      "metadata": {
        "colab": {
          "base_uri": "https://localhost:8080/"
        },
        "outputId": "8edc22d4-b15b-4beb-d0a9-948cd2fcc3a6",
        "id": "00UgefUX-S9x"
      },
      "execution_count": 89,
      "outputs": [
        {
          "output_type": "stream",
          "name": "stdout",
          "text": [
            "[04:55:19] WARNING: /workspace/src/objective/regression_obj.cu:152: reg:linear is now deprecated in favor of reg:squarederror.\n"
          ]
        }
      ]
    },
    {
      "cell_type": "markdown",
      "source": [
        "### Ensemble Models"
      ],
      "metadata": {
        "id": "B9W-DoAOTiIx"
      }
    },
    {
      "cell_type": "code",
      "source": [
        "gbr = GradientBoostingRegressor(n_estimators=3000, learning_rate=0.05, max_depth=4, max_features='sqrt', min_samples_leaf=15, min_samples_split=10, loss='huber', random_state =0)"
      ],
      "metadata": {
        "id": "dceFMrDpj6ew"
      },
      "execution_count": 90,
      "outputs": []
    },
    {
      "cell_type": "code",
      "source": [
        "gbr = gbr.fit(X_train, y_train)"
      ],
      "metadata": {
        "id": "k84wZw7fpawW"
      },
      "execution_count": 91,
      "outputs": []
    },
    {
      "cell_type": "code",
      "source": [
        "xgb = XGBRegressor(learning_rate=0.01,n_estimators=3460,\n",
        "                 max_depth=3, min_child_weight=0,\n",
        "                                     gamma=0, subsample=0.7,\n",
        "                                     colsample_bytree=0.7,\n",
        "                                     objective='reg:linear', nthread=-1,\n",
        "                                     scale_pos_weight=1, seed=27,\n",
        "                                     reg_alpha=0.00006)"
      ],
      "metadata": {
        "id": "-nwbrjh_sH93"
      },
      "execution_count": 92,
      "outputs": []
    },
    {
      "cell_type": "code",
      "source": [
        "xgb = xgb.fit(X_train, y_train)"
      ],
      "metadata": {
        "colab": {
          "base_uri": "https://localhost:8080/"
        },
        "id": "CqIDY9GBpd3M",
        "outputId": "a0a9cd8d-f192-493e-e784-382c047e56c6"
      },
      "execution_count": 93,
      "outputs": [
        {
          "output_type": "stream",
          "name": "stdout",
          "text": [
            "[04:55:32] WARNING: /workspace/src/objective/regression_obj.cu:152: reg:linear is now deprecated in favor of reg:squarederror.\n"
          ]
        }
      ]
    },
    {
      "cell_type": "code",
      "source": [
        "br = BaggingRegressor(n_estimators = 200, n_jobs = -1, random_state = 10)"
      ],
      "metadata": {
        "id": "DiZDo9Cf8PHY"
      },
      "execution_count": 94,
      "outputs": []
    },
    {
      "cell_type": "code",
      "source": [
        "br = br.fit(X_train, y_train)"
      ],
      "metadata": {
        "id": "BzvWQaVreAzC"
      },
      "execution_count": 95,
      "outputs": []
    },
    {
      "cell_type": "code",
      "source": [
        "def ensemble_models(X):\n",
        "    return ((0.5 * br.predict(X)) +\n",
        "           (0.3 * gbr.predict(X)) +            \n",
        "           (0.2 * xgb.predict(X)))"
      ],
      "metadata": {
        "id": "xVa76ldRdDOh"
      },
      "execution_count": 96,
      "outputs": []
    },
    {
      "cell_type": "code",
      "source": [
        "ensemble_predictions = ensemble_models(X_test)"
      ],
      "metadata": {
        "id": "Y1gXER7gdDOh"
      },
      "execution_count": 97,
      "outputs": []
    },
    {
      "cell_type": "markdown",
      "source": [
        "### Comapre Models"
      ],
      "metadata": {
        "id": "Ed9yoiSz0btr"
      }
    },
    {
      "cell_type": "code",
      "source": [
        "# Density plot of the final predictions and the test values\n",
        "sns.kdeplot(y_test, label = 'True Values',color='red')\n",
        "sns.kdeplot(test_predictions_sel, label = 'Selected Feat Model Predictions',color='darkorange')\n",
        "sns.kdeplot(test_predictions, label = 'Lowest RMSE Model Predictions',color='green', linestyle='dashed')\n",
        "sns.kdeplot(test_predictions_log, label = 'Log Model Predictions',color='blue')\n",
        "sns.kdeplot(ensemble_predictions, label = 'Ensemble Model Predictions',color='black', linestyle='dashed')\n",
        "\n",
        "\n",
        "# Label the plot\n",
        "plt.xlabel('PV Efficiency'); plt.ylabel('Density');\n",
        "plt.title('Test Values and Predictions');\n",
        "\n",
        "plt.legend()\n",
        "\n",
        "plt.show()"
      ],
      "metadata": {
        "colab": {
          "base_uri": "https://localhost:8080/",
          "height": 481
        },
        "outputId": "af457752-e5ec-4413-cf06-dd6e4c73ff48",
        "id": "IOjuVSwFZgLv"
      },
      "execution_count": 98,
      "outputs": [
        {
          "output_type": "display_data",
          "data": {
            "text/plain": [
              "<Figure size 748.8x514.8 with 1 Axes>"
            ],
            "image/png": "[encoded data removed]"
          },
          "metadata": {
            "needs_background": "light"
          }
        }
      ]
    },
    {
      "cell_type": "markdown",
      "source": [
        "### Model Selection"
      ],
      "metadata": {
        "id": "xOD00BWPAniV"
      }
    },
    {
      "cell_type": "code",
      "source": [
        "#best model is xgb with log-normalized target data by using the log(1+x)\n",
        "y_log =  np.log1p(y)\n",
        "model =  xgb.fit(X, y_log)"
      ],
      "metadata": {
        "colab": {
          "base_uri": "https://localhost:8080/"
        },
        "id": "VEkxyA-uIwYt",
        "outputId": "2f8934ad-99c9-4dae-d6bd-9c1c8deb7600"
      },
      "execution_count": 99,
      "outputs": [
        {
          "output_type": "stream",
          "name": "stdout",
          "text": [
            "[04:55:35] WARNING: /workspace/src/objective/regression_obj.cu:152: reg:linear is now deprecated in favor of reg:squarederror.\n"
          ]
        }
      ]
    },
    {
      "cell_type": "code",
      "source": [
        "pred = model.predict(X)\n",
        "pred = np.expm1(pred)"
      ],
      "metadata": {
        "id": "9AQKsP7gRmJf"
      },
      "execution_count": 100,
      "outputs": []
    },
    {
      "cell_type": "code",
      "source": [
        "# Density plot of the final predictions and the test values\n",
        "sns.kdeplot(y, label = 'True Values',color='red')\n",
        "sns.kdeplot(pred, label = 'Predicted Values', color='green')\n",
        "\n",
        "# Label the plot\n",
        "plt.xlabel('PV Efficiency'); plt.ylabel('Density');\n",
        "plt.title('True Values vs Predicted Values');\n",
        "\n",
        "plt.legend()\n",
        "\n",
        "plt.show()"
      ],
      "metadata": {
        "colab": {
          "base_uri": "https://localhost:8080/",
          "height": 481
        },
        "id": "uSZ5qrAeR696",
        "outputId": "b2581058-83df-4749-bbae-ee20b1698d4e"
      },
      "execution_count": 101,
      "outputs": [
        {
          "output_type": "display_data",
          "data": {
            "text/plain": [
              "<Figure size 748.8x514.8 with 1 Axes>"
            ],
            "image/png": "[encoded data removed]"
          },
          "metadata": {
            "needs_background": "light"
          }
        }
      ]
    },
    {
      "cell_type": "code",
      "source": [
        "#save model\n",
        "dump(model, 'model.joblib')"
      ],
      "metadata": {
        "colab": {
          "base_uri": "https://localhost:8080/"
        },
        "id": "SatA5MAoJfbY",
        "outputId": "5e270fef-a551-4eee-c2a0-3ff17a2b7615"
      },
      "execution_count": 102,
      "outputs": [
        {
          "output_type": "execute_result",
          "data": {
            "text/plain": [
              "['model.joblib']"
            ]
          },
          "metadata": {},
          "execution_count": 102
        }
      ]
    },
    {
      "cell_type": "code",
      "source": [
        "pickle.dump(model, open(\"model.pkl\", \"wb\"))"
      ],
      "metadata": {
        "id": "IB8q26Q1J8rO"
      },
      "execution_count": 127,
      "outputs": []
    },
    {
      "cell_type": "markdown",
      "source": [
        "# Make Predictions for Future Dates"
      ],
      "metadata": {
        "id": "iVKJ9yEnMOFa"
      }
    },
    {
      "cell_type": "markdown",
      "source": [
        "## Import Weather Data"
      ],
      "metadata": {
        "id": "embnDcrSMTYH"
      }
    },
    {
      "cell_type": "code",
      "source": [
        "files.upload()"
      ],
      "metadata": {
        "id": "lvKhMDJIsAhy"
      },
      "execution_count": null,
      "outputs": []
    },
    {
      "cell_type": "code",
      "source": [
        "weather_data = pd.read_csv('oakland_min_max.csv')"
      ],
      "metadata": {
        "id": "OisQk2ebOtDd"
      },
      "execution_count": 24,
      "outputs": []
    },
    {
      "cell_type": "markdown",
      "source": [
        "## Extract Data for Model"
      ],
      "metadata": {
        "id": "1JsTOgNckA3Y"
      }
    },
    {
      "cell_type": "code",
      "source": [
        "weather_data[\"Date\"] = weather_data[\"Date\"].astype(str)\n",
        "weather_data[\"DateTime\"] = weather_data[\"Date\"].apply(lambda x: datetime.strptime(x, \"%Y%m%d\"))\n",
        "dt = pd.DatetimeIndex(weather_data['DateTime'])\n",
        "weather_data.set_index(dt, inplace=True)"
      ],
      "metadata": {
        "id": "wepy1Z2IPhpc"
      },
      "execution_count": 25,
      "outputs": []
    },
    {
      "cell_type": "code",
      "source": [
        "weather_data['day'] = dt.day\n",
        "weather_data['month'] = dt.month\n",
        "weather_data['year'] = dt.year"
      ],
      "metadata": {
        "id": "mjEJ7H-Uex3C"
      },
      "execution_count": 26,
      "outputs": []
    },
    {
      "cell_type": "code",
      "source": [
        "weather_data.reset_index(drop=True, inplace=True)"
      ],
      "metadata": {
        "id": "OSlm6NXhkrma"
      },
      "execution_count": 27,
      "outputs": []
    },
    {
      "cell_type": "code",
      "source": [
        "def get_future_dates(today, forecast_days):\n",
        "  days = []\n",
        "  for i in range(forecast_days):\n",
        "    day = today + timedelta(i+1)\n",
        "    days.append(day.strftime('%Y%m%d'))\n",
        "  return days"
      ],
      "metadata": {
        "id": "HpumQ1PAO2YK"
      },
      "execution_count": 28,
      "outputs": []
    },
    {
      "cell_type": "code",
      "source": [
        "today = date.today()\n",
        "forecast_days = 3\n",
        "next_days = get_future_dates(today, forecast_days)"
      ],
      "metadata": {
        "id": "zbTRaRiVir5C"
      },
      "execution_count": 29,
      "outputs": []
    },
    {
      "cell_type": "code",
      "source": [
        "weather_data = weather_data[weather_data['Date'].isin(next_days)]"
      ],
      "metadata": {
        "id": "i8AKExu9TLGM"
      },
      "execution_count": 30,
      "outputs": []
    },
    {
      "cell_type": "code",
      "source": [
        "weather_data"
      ],
      "metadata": {
        "colab": {
          "base_uri": "https://localhost:8080/",
          "height": 259
        },
        "id": "gb0tsszqn1we",
        "outputId": "136b66a8-28c2-4131-9bad-bca80b38f71c"
      },
      "execution_count": 31,
      "outputs": [
        {
          "output_type": "execute_result",
          "data": {
            "text/plain": [
              "          Date  temperature_max  temperature_min  dewpoint_temp  \\\n",
              "1492  20220502            15.55             8.66           9.38   \n",
              "1493  20220503            21.23             8.51           5.97   \n",
              "1494  20220504            17.21             9.39           7.88   \n",
              "\n",
              "      relative_humidity  wind_speed  wind_direction  surface_pressure  \\\n",
              "1492               0.91        5.85          257.19         100838.26   \n",
              "1493               0.79        4.53          280.68         100658.02   \n",
              "1494               0.88        5.40          275.05         100365.39   \n",
              "\n",
              "      cloud_cover  total_precipitation  snowfall        lat         lon  \\\n",
              "1492         0.76                  0.0         0  37.804456 -122.271356   \n",
              "1493         0.48                  0.0         0  37.804456 -122.271356   \n",
              "1494         0.27                  0.0         0  37.804456 -122.271356   \n",
              "\n",
              "       DateTime  day  month  year  \n",
              "1492 2022-05-02    2      5  2022  \n",
              "1493 2022-05-03    3      5  2022  \n",
              "1494 2022-05-04    4      5  2022  "
            ],
            "text/html": [
              "\n",
              "  <div id=\"df-c4579db6-9ece-4f63-ba74-ff6fcf2fd20f\">\n",
              "    <div class=\"colab-df-container\">\n",
              "      <div>\n",
              "<style scoped>\n",
              "    .dataframe tbody tr th:only-of-type {\n",
              "        vertical-align: middle;\n",
              "    }\n",
              "\n",
              "    .dataframe tbody tr th {\n",
              "        vertical-align: top;\n",
              "    }\n",
              "\n",
              "    .dataframe thead th {\n",
              "        text-align: right;\n",
              "    }\n",
              "</style>\n",
              "<table border=\"1\" class=\"dataframe\">\n",
              "  <thead>\n",
              "    <tr style=\"text-align: right;\">\n",
              "      <th></th>\n",
              "      <th>Date</th>\n",
              "      <th>temperature_max</th>\n",
              "      <th>temperature_min</th>\n",
              "      <th>dewpoint_temp</th>\n",
              "      <th>relative_humidity</th>\n",
              "      <th>wind_speed</th>\n",
              "      <th>wind_direction</th>\n",
              "      <th>surface_pressure</th>\n",
              "      <th>cloud_cover</th>\n",
              "      <th>total_precipitation</th>\n",
              "      <th>snowfall</th>\n",
              "      <th>lat</th>\n",
              "      <th>lon</th>\n",
              "      <th>DateTime</th>\n",
              "      <th>day</th>\n",
              "      <th>month</th>\n",
              "      <th>year</th>\n",
              "    </tr>\n",
              "  </thead>\n",
              "  <tbody>\n",
              "    <tr>\n",
              "      <th>1492</th>\n",
              "      <td>20220502</td>\n",
              "      <td>15.55</td>\n",
              "      <td>8.66</td>\n",
              "      <td>9.38</td>\n",
              "      <td>0.91</td>\n",
              "      <td>5.85</td>\n",
              "      <td>257.19</td>\n",
              "      <td>100838.26</td>\n",
              "      <td>0.76</td>\n",
              "      <td>0.0</td>\n",
              "      <td>0</td>\n",
              "      <td>37.804456</td>\n",
              "      <td>-122.271356</td>\n",
              "      <td>2022-05-02</td>\n",
              "      <td>2</td>\n",
              "      <td>5</td>\n",
              "      <td>2022</td>\n",
              "    </tr>\n",
              "    <tr>\n",
              "      <th>1493</th>\n",
              "      <td>20220503</td>\n",
              "      <td>21.23</td>\n",
              "      <td>8.51</td>\n",
              "      <td>5.97</td>\n",
              "      <td>0.79</td>\n",
              "      <td>4.53</td>\n",
              "      <td>280.68</td>\n",
              "      <td>100658.02</td>\n",
              "      <td>0.48</td>\n",
              "      <td>0.0</td>\n",
              "      <td>0</td>\n",
              "      <td>37.804456</td>\n",
              "      <td>-122.271356</td>\n",
              "      <td>2022-05-03</td>\n",
              "      <td>3</td>\n",
              "      <td>5</td>\n",
              "      <td>2022</td>\n",
              "    </tr>\n",
              "    <tr>\n",
              "      <th>1494</th>\n",
              "      <td>20220504</td>\n",
              "      <td>17.21</td>\n",
              "      <td>9.39</td>\n",
              "      <td>7.88</td>\n",
              "      <td>0.88</td>\n",
              "      <td>5.40</td>\n",
              "      <td>275.05</td>\n",
              "      <td>100365.39</td>\n",
              "      <td>0.27</td>\n",
              "      <td>0.0</td>\n",
              "      <td>0</td>\n",
              "      <td>37.804456</td>\n",
              "      <td>-122.271356</td>\n",
              "      <td>2022-05-04</td>\n",
              "      <td>4</td>\n",
              "      <td>5</td>\n",
              "      <td>2022</td>\n",
              "    </tr>\n",
              "  </tbody>\n",
              "</table>\n",
              "</div>\n",
              "      <button class=\"colab-df-convert\" onclick=\"convertToInteractive('df-c4579db6-9ece-4f63-ba74-ff6fcf2fd20f')\"\n",
              "              title=\"Convert this dataframe to an interactive table.\"\n",
              "              style=\"display:none;\">\n",
              "        \n",
              "  <svg xmlns=\"http://www.w3.org/2000/svg\" height=\"24px\"viewBox=\"0 0 24 24\"\n",
              "       width=\"24px\">\n",
              "    <path d=\"M0 0h24v24H0V0z\" fill=\"none\"/>\n",
              "    <path d=\"M18.56 5.44l.94 2.06.94-2.06 2.06-.94-2.06-.94-.94-2.06-.94 2.06-2.06.94zm-11 1L8.5 8.5l.94-2.06 2.06-.94-2.06-.94L8.5 2.5l-.94 2.06-2.06.94zm10 10l.94 2.06.94-2.06 2.06-.94-2.06-.94-.94-2.06-.94 2.06-2.06.94z\"/><path d=\"M17.41 7.96l-1.37-1.37c-.4-.4-.92-.59-1.43-.59-.52 0-1.04.2-1.43.59L10.3 9.45l-7.72 7.72c-.78.78-.78 2.05 0 2.83L4 21.41c.39.39.9.59 1.41.59.51 0 1.02-.2 1.41-.59l7.78-7.78 2.81-2.81c.8-.78.8-2.07 0-2.86zM5.41 20L4 18.59l7.72-7.72 1.47 1.35L5.41 20z\"/>\n",
              "  </svg>\n",
              "      </button>\n",
              "      \n",
              "  <style>\n",
              "    .colab-df-container {\n",
              "      display:flex;\n",
              "      flex-wrap:wrap;\n",
              "      gap: 12px;\n",
              "    }\n",
              "\n",
              "    .colab-df-convert {\n",
              "      background-color: #E8F0FE;\n",
              "      border: none;\n",
              "      border-radius: 50%;\n",
              "      cursor: pointer;\n",
              "      display: none;\n",
              "      fill: #1967D2;\n",
              "      height: 32px;\n",
              "      padding: 0 0 0 0;\n",
              "      width: 32px;\n",
              "    }\n",
              "\n",
              "    .colab-df-convert:hover {\n",
              "      background-color: #E2EBFA;\n",
              "      box-shadow: 0px 1px 2px rgba(60, 64, 67, 0.3), 0px 1px 3px 1px rgba(60, 64, 67, 0.15);\n",
              "      fill: #174EA6;\n",
              "    }\n",
              "\n",
              "    [theme=dark] .colab-df-convert {\n",
              "      background-color: #3B4455;\n",
              "      fill: #D2E3FC;\n",
              "    }\n",
              "\n",
              "    [theme=dark] .colab-df-convert:hover {\n",
              "      background-color: #434B5C;\n",
              "      box-shadow: 0px 1px 3px 1px rgba(0, 0, 0, 0.15);\n",
              "      filter: drop-shadow(0px 1px 2px rgba(0, 0, 0, 0.3));\n",
              "      fill: #FFFFFF;\n",
              "    }\n",
              "  </style>\n",
              "\n",
              "      <script>\n",
              "        const buttonEl =\n",
              "          document.querySelector('#df-c4579db6-9ece-4f63-ba74-ff6fcf2fd20f button.colab-df-convert');\n",
              "        buttonEl.style.display =\n",
              "          google.colab.kernel.accessAllowed ? 'block' : 'none';\n",
              "\n",
              "        async function convertToInteractive(key) {\n",
              "          const element = document.querySelector('#df-c4579db6-9ece-4f63-ba74-ff6fcf2fd20f');\n",
              "          const dataTable =\n",
              "            await google.colab.kernel.invokeFunction('convertToInteractive',\n",
              "                                                     [key], {});\n",
              "          if (!dataTable) return;\n",
              "\n",
              "          const docLinkHtml = 'Like what you see? Visit the ' +\n",
              "            '<a target=\"_blank\" href=https://colab.research.google.com/notebooks/data_table.ipynb>data table notebook</a>'\n",
              "            + ' to learn more about interactive tables.';\n",
              "          element.innerHTML = '';\n",
              "          dataTable['output_type'] = 'display_data';\n",
              "          await google.colab.output.renderOutput(dataTable, element);\n",
              "          const docLink = document.createElement('div');\n",
              "          docLink.innerHTML = docLinkHtml;\n",
              "          element.appendChild(docLink);\n",
              "        }\n",
              "      </script>\n",
              "    </div>\n",
              "  </div>\n",
              "  "
            ]
          },
          "metadata": {},
          "execution_count": 31
        }
      ]
    },
    {
      "cell_type": "code",
      "source": [
        "weather_train = weather_data[['temperature_max', 'temperature_min', 'dewpoint_temp', 'relative_humidity', 'wind_speed', 'wind_direction', 'surface_pressure', 'cloud_cover', 'total_precipitation', 'snowfall', 'lat', 'lon', 'day', 'month', 'year']]\n"
      ],
      "metadata": {
        "id": "5fAZFi0uke5x"
      },
      "execution_count": 39,
      "outputs": []
    },
    {
      "cell_type": "markdown",
      "source": [
        "## Predict on Loaded Model"
      ],
      "metadata": {
        "id": "ChbV9Ttylmii"
      }
    },
    {
      "cell_type": "code",
      "source": [
        "#load model\n",
        "loaded_model = load('model.joblib')"
      ],
      "metadata": {
        "colab": {
          "base_uri": "https://localhost:8080/"
        },
        "id": "4OWb66_xF01t",
        "outputId": "094ec1d7-7a1d-4e76-f4f7-a2f1ef148853"
      },
      "execution_count": 33,
      "outputs": [
        {
          "output_type": "stream",
          "name": "stdout",
          "text": [
            "[17:39:20] WARNING: /workspace/src/objective/regression_obj.cu:152: reg:linear is now deprecated in favor of reg:squarederror.\n"
          ]
        }
      ]
    },
    {
      "cell_type": "code",
      "source": [
        "#predit new data\n",
        "new_preds = loaded_model.predict(weather_train)\n",
        "#undo log normalization\n",
        "new_preds = np.expm1(new_preds)"
      ],
      "metadata": {
        "id": "oPiVyz1-HKol"
      },
      "execution_count": 34,
      "outputs": []
    },
    {
      "cell_type": "code",
      "source": [
        "new_preds"
      ],
      "metadata": {
        "colab": {
          "base_uri": "https://localhost:8080/"
        },
        "id": "MGDD2vwtKGva",
        "outputId": "fc6f12f9-b272-40f9-efe0-4eb547ff9310"
      },
      "execution_count": 35,
      "outputs": [
        {
          "output_type": "execute_result",
          "data": {
            "text/plain": [
              "array([4.061493 , 6.3343034, 6.114072 ], dtype=float32)"
            ]
          },
          "metadata": {},
          "execution_count": 35
        }
      ]
    },
    {
      "cell_type": "markdown",
      "source": [
        "## Predicted Energy Generation"
      ],
      "metadata": {
        "id": "yL6x9MSdxAy9"
      }
    },
    {
      "cell_type": "code",
      "source": [
        "system_size = input(\"Enter System Size (in Watts): \")"
      ],
      "metadata": {
        "colab": {
          "base_uri": "https://localhost:8080/"
        },
        "id": "wQITgOX4xPgp",
        "outputId": "a1669bfd-d07a-4e35-ec24-50289fba38df"
      },
      "execution_count": 63,
      "outputs": [
        {
          "name": "stdout",
          "output_type": "stream",
          "text": [
            "Enter System Size (in Watts): 5520\n"
          ]
        }
      ]
    },
    {
      "cell_type": "code",
      "source": [
        "info_df = weather_data[['Date','temperature_max', 'cloud_cover', 'total_precipitation', 'wind_speed', 'snowfall']]\n"
      ],
      "metadata": {
        "id": "5LZ97By2xzd-"
      },
      "execution_count": 102,
      "outputs": []
    },
    {
      "cell_type": "code",
      "source": [
        "info_df['PV_Efficiency (kWh/kW)'] = new_preds.tolist()"
      ],
      "metadata": {
        "id": "0L8zu37By4KE"
      },
      "execution_count": 103,
      "outputs": []
    },
    {
      "cell_type": "code",
      "source": [
        "def calculate_pv_output(x):\n",
        "    x = (x * int(system_size))/1000\n",
        "    return float(round(x, 2))"
      ],
      "metadata": {
        "id": "LzbxmO911uvz"
      },
      "execution_count": 104,
      "outputs": []
    },
    {
      "cell_type": "code",
      "source": [
        "info_df['Energy Generated (kWh)'] = info_df['PV_Efficiency (kWh/kW)'].apply(calculate_pv_output)"
      ],
      "metadata": {
        "id": "qG9SYEpj2LQ2"
      },
      "execution_count": 105,
      "outputs": []
    },
    {
      "cell_type": "code",
      "source": [
        "def convert_to_fahrenheit(x):\n",
        "    x = x * 1.8 + 32\n",
        "    return float(round(x, 2))"
      ],
      "metadata": {
        "id": "JNWRZcF_0EW2"
      },
      "execution_count": 106,
      "outputs": []
    },
    {
      "cell_type": "code",
      "source": [
        "info_df['Temperature (°F)'] = info_df['temperature_max'].apply(convert_to_fahrenheit)"
      ],
      "metadata": {
        "id": "Znenx8Pp0S3T"
      },
      "execution_count": 107,
      "outputs": []
    },
    {
      "cell_type": "code",
      "source": [
        "info_df = info_df.rename({'cloud_cover': 'Cloud Cover', 'total_precipitation': 'Total Precipitation' , 'snowfall': 'Snow Fall' , 'wind_speed': 'Wind Speed'}, axis=1)"
      ],
      "metadata": {
        "id": "BpRkS5cB064X"
      },
      "execution_count": 108,
      "outputs": []
    },
    {
      "cell_type": "code",
      "source": [
        "info_df = info_df[['Date','Energy Generated (kWh)', 'PV_Efficiency (kWh/kW)', 'Temperature (°F)', 'Cloud Cover', 'Total Precipitation', 'Wind Speed', 'Snow Fall']]"
      ],
      "metadata": {
        "id": "qmxImBVy5Kws"
      },
      "execution_count": 109,
      "outputs": []
    },
    {
      "cell_type": "code",
      "source": [
        "info_df[\"Date\"] = info_df[\"Date\"].astype(str)\n",
        "info_df[\"Date\"] = info_df[\"Date\"].apply(lambda x: datetime.strptime(x, \"%Y%m%d\"))"
      ],
      "metadata": {
        "id": "uBjwGKGS55x4"
      },
      "execution_count": 111,
      "outputs": []
    },
    {
      "cell_type": "code",
      "source": [
        "info_df[\"Date\"] = info_df[\"Date\"].dt.strftime('%m-%d-%Y')"
      ],
      "metadata": {
        "id": "3mxX3FSD6ofB"
      },
      "execution_count": 112,
      "outputs": []
    },
    {
      "cell_type": "code",
      "source": [
        "info_df"
      ],
      "metadata": {
        "colab": {
          "base_uri": "https://localhost:8080/",
          "height": 143
        },
        "id": "JeV-CFlZzo9W",
        "outputId": "2521d794-5313-4f34-9824-bfe7dc0dd392"
      },
      "execution_count": 113,
      "outputs": [
        {
          "output_type": "execute_result",
          "data": {
            "text/plain": [
              "            Date  Energy Generated (kWh)  PV_Efficiency (kWh/kW)  \\\n",
              "1492  05-02-2022                   22.42                4.061493   \n",
              "1493  05-03-2022                   34.97                6.334303   \n",
              "1494  05-04-2022                   33.75                6.114072   \n",
              "\n",
              "      Temperature (°F)  Cloud Cover  Total Precipitation  Wind Speed  \\\n",
              "1492             59.99         0.76                  0.0        5.85   \n",
              "1493             70.21         0.48                  0.0        4.53   \n",
              "1494             62.98         0.27                  0.0        5.40   \n",
              "\n",
              "      Snow Fall  \n",
              "1492          0  \n",
              "1493          0  \n",
              "1494          0  "
            ],
            "text/html": [
              "\n",
              "  <div id=\"df-f06a9220-aa22-4356-9a3a-611fabc3ca09\">\n",
              "    <div class=\"colab-df-container\">\n",
              "      <div>\n",
              "<style scoped>\n",
              "    .dataframe tbody tr th:only-of-type {\n",
              "        vertical-align: middle;\n",
              "    }\n",
              "\n",
              "    .dataframe tbody tr th {\n",
              "        vertical-align: top;\n",
              "    }\n",
              "\n",
              "    .dataframe thead th {\n",
              "        text-align: right;\n",
              "    }\n",
              "</style>\n",
              "<table border=\"1\" class=\"dataframe\">\n",
              "  <thead>\n",
              "    <tr style=\"text-align: right;\">\n",
              "      <th></th>\n",
              "      <th>Date</th>\n",
              "      <th>Energy Generated (kWh)</th>\n",
              "      <th>PV_Efficiency (kWh/kW)</th>\n",
              "      <th>Temperature (°F)</th>\n",
              "      <th>Cloud Cover</th>\n",
              "      <th>Total Precipitation</th>\n",
              "      <th>Wind Speed</th>\n",
              "      <th>Snow Fall</th>\n",
              "    </tr>\n",
              "  </thead>\n",
              "  <tbody>\n",
              "    <tr>\n",
              "      <th>1492</th>\n",
              "      <td>05-02-2022</td>\n",
              "      <td>22.42</td>\n",
              "      <td>4.061493</td>\n",
              "      <td>59.99</td>\n",
              "      <td>0.76</td>\n",
              "      <td>0.0</td>\n",
              "      <td>5.85</td>\n",
              "      <td>0</td>\n",
              "    </tr>\n",
              "    <tr>\n",
              "      <th>1493</th>\n",
              "      <td>05-03-2022</td>\n",
              "      <td>34.97</td>\n",
              "      <td>6.334303</td>\n",
              "      <td>70.21</td>\n",
              "      <td>0.48</td>\n",
              "      <td>0.0</td>\n",
              "      <td>4.53</td>\n",
              "      <td>0</td>\n",
              "    </tr>\n",
              "    <tr>\n",
              "      <th>1494</th>\n",
              "      <td>05-04-2022</td>\n",
              "      <td>33.75</td>\n",
              "      <td>6.114072</td>\n",
              "      <td>62.98</td>\n",
              "      <td>0.27</td>\n",
              "      <td>0.0</td>\n",
              "      <td>5.40</td>\n",
              "      <td>0</td>\n",
              "    </tr>\n",
              "  </tbody>\n",
              "</table>\n",
              "</div>\n",
              "      <button class=\"colab-df-convert\" onclick=\"convertToInteractive('df-f06a9220-aa22-4356-9a3a-611fabc3ca09')\"\n",
              "              title=\"Convert this dataframe to an interactive table.\"\n",
              "              style=\"display:none;\">\n",
              "        \n",
              "  <svg xmlns=\"http://www.w3.org/2000/svg\" height=\"24px\"viewBox=\"0 0 24 24\"\n",
              "       width=\"24px\">\n",
              "    <path d=\"M0 0h24v24H0V0z\" fill=\"none\"/>\n",
              "    <path d=\"M18.56 5.44l.94 2.06.94-2.06 2.06-.94-2.06-.94-.94-2.06-.94 2.06-2.06.94zm-11 1L8.5 8.5l.94-2.06 2.06-.94-2.06-.94L8.5 2.5l-.94 2.06-2.06.94zm10 10l.94 2.06.94-2.06 2.06-.94-2.06-.94-.94-2.06-.94 2.06-2.06.94z\"/><path d=\"M17.41 7.96l-1.37-1.37c-.4-.4-.92-.59-1.43-.59-.52 0-1.04.2-1.43.59L10.3 9.45l-7.72 7.72c-.78.78-.78 2.05 0 2.83L4 21.41c.39.39.9.59 1.41.59.51 0 1.02-.2 1.41-.59l7.78-7.78 2.81-2.81c.8-.78.8-2.07 0-2.86zM5.41 20L4 18.59l7.72-7.72 1.47 1.35L5.41 20z\"/>\n",
              "  </svg>\n",
              "      </button>\n",
              "      \n",
              "  <style>\n",
              "    .colab-df-container {\n",
              "      display:flex;\n",
              "      flex-wrap:wrap;\n",
              "      gap: 12px;\n",
              "    }\n",
              "\n",
              "    .colab-df-convert {\n",
              "      background-color: #E8F0FE;\n",
              "      border: none;\n",
              "      border-radius: 50%;\n",
              "      cursor: pointer;\n",
              "      display: none;\n",
              "      fill: #1967D2;\n",
              "      height: 32px;\n",
              "      padding: 0 0 0 0;\n",
              "      width: 32px;\n",
              "    }\n",
              "\n",
              "    .colab-df-convert:hover {\n",
              "      background-color: #E2EBFA;\n",
              "      box-shadow: 0px 1px 2px rgba(60, 64, 67, 0.3), 0px 1px 3px 1px rgba(60, 64, 67, 0.15);\n",
              "      fill: #174EA6;\n",
              "    }\n",
              "\n",
              "    [theme=dark] .colab-df-convert {\n",
              "      background-color: #3B4455;\n",
              "      fill: #D2E3FC;\n",
              "    }\n",
              "\n",
              "    [theme=dark] .colab-df-convert:hover {\n",
              "      background-color: #434B5C;\n",
              "      box-shadow: 0px 1px 3px 1px rgba(0, 0, 0, 0.15);\n",
              "      filter: drop-shadow(0px 1px 2px rgba(0, 0, 0, 0.3));\n",
              "      fill: #FFFFFF;\n",
              "    }\n",
              "  </style>\n",
              "\n",
              "      <script>\n",
              "        const buttonEl =\n",
              "          document.querySelector('#df-f06a9220-aa22-4356-9a3a-611fabc3ca09 button.colab-df-convert');\n",
              "        buttonEl.style.display =\n",
              "          google.colab.kernel.accessAllowed ? 'block' : 'none';\n",
              "\n",
              "        async function convertToInteractive(key) {\n",
              "          const element = document.querySelector('#df-f06a9220-aa22-4356-9a3a-611fabc3ca09');\n",
              "          const dataTable =\n",
              "            await google.colab.kernel.invokeFunction('convertToInteractive',\n",
              "                                                     [key], {});\n",
              "          if (!dataTable) return;\n",
              "\n",
              "          const docLinkHtml = 'Like what you see? Visit the ' +\n",
              "            '<a target=\"_blank\" href=https://colab.research.google.com/notebooks/data_table.ipynb>data table notebook</a>'\n",
              "            + ' to learn more about interactive tables.';\n",
              "          element.innerHTML = '';\n",
              "          dataTable['output_type'] = 'display_data';\n",
              "          await google.colab.output.renderOutput(dataTable, element);\n",
              "          const docLink = document.createElement('div');\n",
              "          docLink.innerHTML = docLinkHtml;\n",
              "          element.appendChild(docLink);\n",
              "        }\n",
              "      </script>\n",
              "    </div>\n",
              "  </div>\n",
              "  "
            ]
          },
          "metadata": {},
          "execution_count": 113
        }
      ]
    }
  ]
}