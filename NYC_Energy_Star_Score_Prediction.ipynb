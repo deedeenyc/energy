{
  "nbformat": 4,
  "nbformat_minor": 0,
  "metadata": {
    "colab": {
      "name": "NYC Energy Star Score Prediction.ipynb",
      "provenance": [],
      "authorship_tag": "ABX9TyNnfgcxs/hCfW6tp6XkeSgY"
    },
    "kernelspec": {
      "name": "python3",
      "display_name": "Python 3"
    },
    "language_info": {
      "name": "python"
    }
  },
  "cells": [
    {
      "cell_type": "code",
      "execution_count": 1,
      "metadata": {
        "id": "NkDLd3rqCpDv",
        "colab": {
          "base_uri": "https://localhost:8080/"
        },
        "outputId": "c1754e78-9e84-4385-9270-cf06e365b593"
      },
      "outputs": [
        {
          "output_type": "stream",
          "name": "stdout",
          "text": [
            "Mounted at /content/drive\n"
          ]
        }
      ],
      "source": [
        "#Import Data Set and Python Libraries\n",
        "import math, time, random, datetime\n",
        "\n",
        "import numpy as np\n",
        "import pandas as pd\n",
        "import matplotlib.pyplot as plt\n",
        "%matplotlib inline\n",
        "plt.style.use('seaborn-talk')\n",
        "import seaborn as sns\n",
        "sns.set(color_codes=True)\n",
        "sns.set_style('white')\n",
        "\n",
        "\n",
        "from google.colab import drive\n",
        "drive.mount('/content/drive')\n",
        "\n",
        "path = \"drive/My Drive/Colab Notebooks/data/energy/\"\n",
        "\n",
        "NYC_data = pd.read_excel(path+\"NYC_2020_Data_Updated.xlsx\")"
      ]
    }
  ]
}